{
  "nbformat": 4,
  "nbformat_minor": 0,
  "metadata": {
    "colab": {
      "provenance": []
    },
    "kernelspec": {
      "name": "python3",
      "display_name": "Python 3"
    },
    "language_info": {
      "name": "python"
    }
  },
  "cells": [
    {
      "cell_type": "code",
      "execution_count": 1,
      "metadata": {
        "colab": {
          "base_uri": "https://localhost:8080/"
        },
        "id": "L-aht6_jiJik",
        "outputId": "e05bf647-0b8f-4c0f-b764-6b8d1f7659fe"
      },
      "outputs": [
        {
          "output_type": "stream",
          "name": "stdout",
          "text": [
            "Requirement already satisfied: pyspark in /usr/local/lib/python3.10/dist-packages (3.5.3)\n",
            "Requirement already satisfied: py4j==0.10.9.7 in /usr/local/lib/python3.10/dist-packages (from pyspark) (0.10.9.7)\n"
          ]
        }
      ],
      "source": [
        "!pip install pyspark"
      ]
    },
    {
      "cell_type": "code",
      "source": [
        "from pyspark.sql import SparkSession\n",
        "from pyspark.sql import functions as F\n",
        "from pyspark.sql.functions import  max\n",
        "from pyspark.sql.functions import col, when\n",
        "import matplotlib.pyplot as plt\n",
        "import pandas as pd\n",
        "import seaborn as sns\n",
        "from pyspark.sql.functions import corr\n",
        "import statsmodels.api as sm\n",
        "from statsmodels.formula.api import ols\n",
        "import pandas as pd\n",
        "from pyspark.ml.regression import DecisionTreeRegressor\n",
        "from pyspark.ml.feature import VectorAssembler\n",
        "from pyspark.ml.evaluation import MulticlassClassificationEvaluator\n",
        "from pyspark.ml.feature import StringIndexer, VectorAssembler\n",
        "from pyspark.ml import Pipeline\n",
        "from pyspark.ml.classification import DecisionTreeClassifier\n",
        "from pyspark.ml.classification import RandomForestClassifier\n",
        "from pyspark.ml.evaluation import RegressionEvaluator"
      ],
      "metadata": {
        "id": "iipkrXrkiP93"
      },
      "execution_count": 100,
      "outputs": []
    },
    {
      "cell_type": "code",
      "source": [
        "from google.colab import drive"
      ],
      "metadata": {
        "id": "NZqVVu8SiQC9"
      },
      "execution_count": 3,
      "outputs": []
    },
    {
      "cell_type": "code",
      "source": [
        "drive.mount(\"/drive\")"
      ],
      "metadata": {
        "colab": {
          "base_uri": "https://localhost:8080/"
        },
        "id": "g4e2NHbXiQFz",
        "outputId": "863f74d2-2766-40b1-9acf-bbd8c1d42ab9"
      },
      "execution_count": 4,
      "outputs": [
        {
          "output_type": "stream",
          "name": "stdout",
          "text": [
            "Mounted at /drive\n"
          ]
        }
      ]
    },
    {
      "cell_type": "code",
      "source": [
        "spark = SparkSession.builder.appName(\"Datos_aerolineas\").getOrCreate()"
      ],
      "metadata": {
        "id": "o-ExMTxaiQLx"
      },
      "execution_count": 5,
      "outputs": []
    },
    {
      "cell_type": "code",
      "source": [
        "df_aerolineas = spark.read.option(\"Header\", True).csv(\"/content/Trafico_aereo.csv\")\n",
        "df_aerolineas.show()"
      ],
      "metadata": {
        "colab": {
          "base_uri": "https://localhost:8080/"
        },
        "id": "1pHc_dBAiQIx",
        "outputId": "ccfd3b00-fb5e-4b2b-a0e3-4dc0c0ba5b1a"
      },
      "execution_count": 6,
      "outputs": [
        {
          "output_type": "stream",
          "name": "stdout",
          "text": [
            "+---------------+-----------------+---------------------------+-----------------+---------------------------+-------------+-------------------+------------------+-------------------+-------------+-------------+---------------+---------------------------+------------------------+----+-----+\n",
            "|Activity Period|Operating Airline|Operating Airline IATA Code|Published Airline|Published Airline IATA Code|  GEO Summary|         GEO Region|Activity Type Code|Price Category Code|     Terminal|Boarding Area|Passenger Count|Adjusted Activity Type Code|Adjusted Passenger Count|Year|Month|\n",
            "+---------------+-----------------+---------------------------+-----------------+---------------------------+-------------+-------------------+------------------+-------------------+-------------+-------------+---------------+---------------------------+------------------------+----+-----+\n",
            "|         200507|     ATA Airlines|                         TZ|     ATA Airlines|                         TZ|     Domestic|                 US|          Deplaned|           Low Fare|   Terminal 1|            B|          27271|                   Deplaned|                   27271|2005| July|\n",
            "|         200507|     ATA Airlines|                         TZ|     ATA Airlines|                         TZ|     Domestic|                 US|          Enplaned|           Low Fare|   Terminal 1|            B|          29131|                   Enplaned|                   29131|2005| July|\n",
            "|         200507|     ATA Airlines|                         TZ|     ATA Airlines|                         TZ|     Domestic|                 US|    Thru / Transit|           Low Fare|   Terminal 1|            B|           5415|         Thru / Transit * 2|                   10830|2005| July|\n",
            "|         200507|      Air Canada |                         AC|      Air Canada |                         AC|International|             Canada|          Deplaned|              Other|   Terminal 1|            B|          35156|                   Deplaned|                   35156|2005| July|\n",
            "|         200507|      Air Canada |                         AC|      Air Canada |                         AC|International|             Canada|          Enplaned|              Other|   Terminal 1|            B|          34090|                   Enplaned|                   34090|2005| July|\n",
            "|         200507|        Air China|                         CA|        Air China|                         CA|International|               Asia|          Deplaned|              Other|International|            G|           6263|                   Deplaned|                    6263|2005| July|\n",
            "|         200507|        Air China|                         CA|        Air China|                         CA|International|               Asia|          Enplaned|              Other|International|            G|           5500|                   Enplaned|                    5500|2005| July|\n",
            "|         200507|       Air France|                         AF|       Air France|                         AF|International|             Europe|          Deplaned|              Other|International|            A|          12050|                   Deplaned|                   12050|2005| July|\n",
            "|         200507|       Air France|                         AF|       Air France|                         AF|International|             Europe|          Enplaned|              Other|International|            A|          11638|                   Enplaned|                   11638|2005| July|\n",
            "|         200507|  Air New Zealand|                         NZ|  Air New Zealand|                         NZ|International|Australia / Oceania|          Deplaned|              Other|International|            G|           4998|                   Deplaned|                    4998|2005| July|\n",
            "|         200507|  Air New Zealand|                         NZ|  Air New Zealand|                         NZ|International|Australia / Oceania|          Enplaned|              Other|International|            G|           4962|                   Enplaned|                    4962|2005| July|\n",
            "|         200507|  AirTran Airways|                         FL|  AirTran Airways|                         FL|     Domestic|                 US|          Deplaned|           Low Fare|International|            A|           8055|                   Deplaned|                    8055|2005| July|\n",
            "|         200507|  AirTran Airways|                         FL|  AirTran Airways|                         FL|     Domestic|                 US|          Enplaned|           Low Fare|International|            A|           7984|                   Enplaned|                    7984|2005| July|\n",
            "|         200507|  Alaska Airlines|                         AS|  Alaska Airlines|                         AS|     Domestic|                 US|          Deplaned|              Other|International|            A|          36641|                   Deplaned|                   36641|2005| July|\n",
            "|         200507|  Alaska Airlines|                         AS|  Alaska Airlines|                         AS|     Domestic|                 US|          Enplaned|              Other|International|            A|          39379|                   Enplaned|                   39379|2005| July|\n",
            "|         200507|  Alaska Airlines|                         AS|  Alaska Airlines|                         AS|     Domestic|                 US|    Thru / Transit|              Other|International|            A|           3678|         Thru / Transit * 2|                    7356|2005| July|\n",
            "|         200507|  Alaska Airlines|                         AS|  Alaska Airlines|                         AS|International|             Canada|          Deplaned|              Other|International|            A|           7977|                   Deplaned|                    7977|2005| July|\n",
            "|         200507|  Alaska Airlines|                         AS|  Alaska Airlines|                         AS|International|             Canada|          Enplaned|              Other|International|            A|           8837|                   Enplaned|                    8837|2005| July|\n",
            "|         200507|  Alaska Airlines|                         AS|  Alaska Airlines|                         AS|International|             Mexico|          Deplaned|              Other|International|            A|           6969|                   Deplaned|                    6969|2005| July|\n",
            "|         200507|  Alaska Airlines|                         AS|  Alaska Airlines|                         AS|International|             Mexico|          Enplaned|              Other|International|            A|          10046|                   Enplaned|                   10046|2005| July|\n",
            "+---------------+-----------------+---------------------------+-----------------+---------------------------+-------------+-------------------+------------------+-------------------+-------------+-------------+---------------+---------------------------+------------------------+----+-----+\n",
            "only showing top 20 rows\n",
            "\n"
          ]
        }
      ]
    },
    {
      "cell_type": "code",
      "source": [
        "df_aerolineas = df_aerolineas.withColumn(\"Passenger Count\", col(\"Passenger Count\").cast(\"int\"))"
      ],
      "metadata": {
        "id": "Kqz2oiwYiQOn"
      },
      "execution_count": 7,
      "outputs": []
    },
    {
      "cell_type": "code",
      "source": [
        "aerolineas_distintas = df_aerolineas.select(\"Operating Airline\").distinct().count()\n",
        "print(aerolineas_distintas)"
      ],
      "metadata": {
        "colab": {
          "base_uri": "https://localhost:8080/"
        },
        "id": "x_Y5Bs8zzZ7X",
        "outputId": "fb8dc004-29a1-490c-fbac-f3bc13640d9e"
      },
      "execution_count": 8,
      "outputs": [
        {
          "output_type": "stream",
          "name": "stdout",
          "text": [
            "77\n"
          ]
        }
      ]
    },
    {
      "cell_type": "code",
      "source": [
        "media_pasajeros = df_aerolineas.groupBy('Operating Airline').agg(\n",
        "    F.avg('Passenger Count').alias('Passanger Count media')\n",
        ")\n",
        "media_pasajeros_redondeada = media_pasajeros.withColumn(\n",
        "    'Passanger Count media',\n",
        "    F.round('Passanger Count media', 2)\n",
        ")\n",
        "media_pasajeros_ordenada = media_pasajeros_redondeada.orderBy('Passanger Count media', ascending=False)\n",
        "media_pasajeros_ordenada.show()\n",
        "\n",
        "\n",
        "\n"
      ],
      "metadata": {
        "colab": {
          "base_uri": "https://localhost:8080/"
        },
        "id": "fW0EIJChirps",
        "outputId": "8cbdf740-53f4-4429-f972-340183cd89df"
      },
      "execution_count": 9,
      "outputs": [
        {
          "output_type": "stream",
          "name": "stdout",
          "text": [
            "+--------------------+---------------------+\n",
            "|   Operating Airline|Passanger Count media|\n",
            "+--------------------+---------------------+\n",
            "|   American Airlines|            127164.39|\n",
            "|  Southwest Airlines|             81188.16|\n",
            "|      Virgin America|             74405.35|\n",
            "|     United Airlines|             72732.06|\n",
            "|     Delta Air Lines|              68498.5|\n",
            "|          US Airways|             55317.82|\n",
            "|United Airlines -...|             48915.47|\n",
            "|    SkyWest Airlines|             37083.84|\n",
            "|    JetBlue Airways |             35261.14|\n",
            "|  Northwest Airlines|             26109.25|\n",
            "|    Compass Airlines|             23358.56|\n",
            "|Lufthansa German ...|             19301.97|\n",
            "|         Air Canada |             18251.56|\n",
            "|   Frontier Airlines|             17787.68|\n",
            "|     British Airways|             17625.12|\n",
            "|     Alaska Airlines|             17251.64|\n",
            "|      Cathay Pacific|             17121.33|\n",
            "|  Singapore Airlines|             14746.65|\n",
            "|         EVA Airways|             13116.36|\n",
            "|          Air France|             11589.08|\n",
            "+--------------------+---------------------+\n",
            "only showing top 20 rows\n",
            "\n"
          ]
        }
      ]
    },
    {
      "cell_type": "code",
      "source": [
        "max_pasajeros = df_aerolineas.groupBy(\"GEO Region\").agg(\n",
        "    max(\"Passenger Count\").alias(\"maximo pasajeros\")\n",
        ")\n",
        "\n",
        "\n",
        "max_pasajeros.show()"
      ],
      "metadata": {
        "colab": {
          "base_uri": "https://localhost:8080/"
        },
        "id": "G7OKCPoczyfl",
        "outputId": "b57ccf7e-b3c7-454b-873f-7c0a4f4772e9"
      },
      "execution_count": 10,
      "outputs": [
        {
          "output_type": "stream",
          "name": "stdout",
          "text": [
            "+-------------------+----------------+\n",
            "|         GEO Region|maximo pasajeros|\n",
            "+-------------------+----------------+\n",
            "|             Europe|           48136|\n",
            "|    Central America|            8970|\n",
            "|                 US|          659837|\n",
            "|      South America|            3685|\n",
            "|             Mexico|           29206|\n",
            "|        Middle East|           14769|\n",
            "|             Canada|           39798|\n",
            "|Australia / Oceania|           12973|\n",
            "|               Asia|           86398|\n",
            "+-------------------+----------------+\n",
            "\n"
          ]
        }
      ]
    },
    {
      "cell_type": "code",
      "source": [
        "media_pasajeros_csv = \"/content/media_pasajeros.csv\"\n",
        "media_pasajeros.write.csv(media_pasajeros_csv, header=True, mode='overwrite')\n",
        "df_media_pasajeros = spark.read.csv(media_pasajeros_csv, header=True, inferSchema=True)\n",
        "df_media_pasajeros.show()"
      ],
      "metadata": {
        "colab": {
          "base_uri": "https://localhost:8080/"
        },
        "id": "XXfBTO9W1fhC",
        "outputId": "e73c5b4b-465e-4681-b649-a8b784ec20d7"
      },
      "execution_count": 11,
      "outputs": [
        {
          "output_type": "stream",
          "name": "stdout",
          "text": [
            "+--------------------+---------------------+\n",
            "|   Operating Airline|Passanger Count media|\n",
            "+--------------------+---------------------+\n",
            "|          Icelandair|               2799.7|\n",
            "|         Ameriflight|                  5.0|\n",
            "|      Cathay Pacific|   17121.325581395347|\n",
            "|          Aeromexico|    5463.822222222222|\n",
            "|      Etihad Airways|    6476.088235294118|\n",
            "| Philippine Airlines|   10248.635658914729|\n",
            "|United Airlines -...|    48915.46750232126|\n",
            "|    Turkish Airlines|    8162.416666666667|\n",
            "| Swiss International|    6061.640287769784|\n",
            "|    Independence Air|               6391.3|\n",
            "|Miami Air Interna...|              107.375|\n",
            "|          Air France|   11589.077519379845|\n",
            "|      Japan Airlines|    6470.332046332046|\n",
            "|    Midwest Airlines|               3883.0|\n",
            "|      Atlas Air, Inc|                 34.0|\n",
            "|     JetBlue Airways|    35261.13963963964|\n",
            "|       China Eastern|    5498.402777777777|\n",
            "|   Mexicana Airlines|    7993.806451612903|\n",
            "|          Air Canada|   18251.560109289618|\n",
            "|       Allegiant Air|            1516.8125|\n",
            "+--------------------+---------------------+\n",
            "only showing top 20 rows\n",
            "\n"
          ]
        }
      ]
    },
    {
      "cell_type": "code",
      "source": [
        "max_pasajeros_csv = \"/content/max_pasajeros.csv\"\n",
        "max_pasajeros.coalesce(1).write.csv(max_pasajeros_csv, header=True, mode='overwrite')\n",
        "df_max_pasajeros = spark.read.csv(max_pasajeros_csv, header=True, inferSchema=True)\n",
        "df_max_pasajeros.show()"
      ],
      "metadata": {
        "colab": {
          "base_uri": "https://localhost:8080/"
        },
        "id": "nN4UbbdE1hDO",
        "outputId": "a9288fed-1857-4965-bddb-fdeef3e23c3f"
      },
      "execution_count": 12,
      "outputs": [
        {
          "output_type": "stream",
          "name": "stdout",
          "text": [
            "+-------------------+----------------+\n",
            "|         GEO Region|maximo pasajeros|\n",
            "+-------------------+----------------+\n",
            "|             Europe|           48136|\n",
            "|    Central America|            8970|\n",
            "|                 US|          659837|\n",
            "|      South America|            3685|\n",
            "|             Mexico|           29206|\n",
            "|        Middle East|           14769|\n",
            "|             Canada|           39798|\n",
            "|Australia / Oceania|           12973|\n",
            "|               Asia|           86398|\n",
            "+-------------------+----------------+\n",
            "\n"
          ]
        }
      ]
    },
    {
      "cell_type": "code",
      "source": [
        "datos_limpios = df_aerolineas.withColumn(\n",
        "    \"mes\",\n",
        "    F.when(F.col(\"Month\") == \"January\", 1)\n",
        "     .when(F.col(\"Month\") == \"February\", 2)\n",
        "     .when(F.col(\"Month\") == \"March\", 3)\n",
        "     .when(F.col(\"Month\") == \"April\", 4)\n",
        "     .when(F.col(\"Month\") == \"May\", 5)\n",
        "     .when(F.col(\"Month\") == \"June\", 6)\n",
        "     .when(F.col(\"Month\") == \"July\", 7)\n",
        "     .when(F.col(\"Month\") == \"August\", 8)\n",
        "     .when(F.col(\"Month\") == \"September\", 9)\n",
        "     .when(F.col(\"Month\") == \"October\", 10)\n",
        "     .when(F.col(\"Month\") == \"November\", 11)\n",
        "     .when(F.col(\"Month\") == \"December\", 12))\n",
        "datos_limpios = datos_limpios.withColumn(\"mes\", F.col(\"mes\").cast(\"integer\"))\n",
        "datos_limpios.show()"
      ],
      "metadata": {
        "colab": {
          "base_uri": "https://localhost:8080/"
        },
        "id": "FqBxmh3cirsk",
        "outputId": "6f259824-922e-4714-b521-05dc63673676"
      },
      "execution_count": 13,
      "outputs": [
        {
          "output_type": "stream",
          "name": "stdout",
          "text": [
            "+---------------+-----------------+---------------------------+-----------------+---------------------------+-------------+-------------------+------------------+-------------------+-------------+-------------+---------------+---------------------------+------------------------+----+-----+---+\n",
            "|Activity Period|Operating Airline|Operating Airline IATA Code|Published Airline|Published Airline IATA Code|  GEO Summary|         GEO Region|Activity Type Code|Price Category Code|     Terminal|Boarding Area|Passenger Count|Adjusted Activity Type Code|Adjusted Passenger Count|Year|Month|mes|\n",
            "+---------------+-----------------+---------------------------+-----------------+---------------------------+-------------+-------------------+------------------+-------------------+-------------+-------------+---------------+---------------------------+------------------------+----+-----+---+\n",
            "|         200507|     ATA Airlines|                         TZ|     ATA Airlines|                         TZ|     Domestic|                 US|          Deplaned|           Low Fare|   Terminal 1|            B|          27271|                   Deplaned|                   27271|2005| July|  7|\n",
            "|         200507|     ATA Airlines|                         TZ|     ATA Airlines|                         TZ|     Domestic|                 US|          Enplaned|           Low Fare|   Terminal 1|            B|          29131|                   Enplaned|                   29131|2005| July|  7|\n",
            "|         200507|     ATA Airlines|                         TZ|     ATA Airlines|                         TZ|     Domestic|                 US|    Thru / Transit|           Low Fare|   Terminal 1|            B|           5415|         Thru / Transit * 2|                   10830|2005| July|  7|\n",
            "|         200507|      Air Canada |                         AC|      Air Canada |                         AC|International|             Canada|          Deplaned|              Other|   Terminal 1|            B|          35156|                   Deplaned|                   35156|2005| July|  7|\n",
            "|         200507|      Air Canada |                         AC|      Air Canada |                         AC|International|             Canada|          Enplaned|              Other|   Terminal 1|            B|          34090|                   Enplaned|                   34090|2005| July|  7|\n",
            "|         200507|        Air China|                         CA|        Air China|                         CA|International|               Asia|          Deplaned|              Other|International|            G|           6263|                   Deplaned|                    6263|2005| July|  7|\n",
            "|         200507|        Air China|                         CA|        Air China|                         CA|International|               Asia|          Enplaned|              Other|International|            G|           5500|                   Enplaned|                    5500|2005| July|  7|\n",
            "|         200507|       Air France|                         AF|       Air France|                         AF|International|             Europe|          Deplaned|              Other|International|            A|          12050|                   Deplaned|                   12050|2005| July|  7|\n",
            "|         200507|       Air France|                         AF|       Air France|                         AF|International|             Europe|          Enplaned|              Other|International|            A|          11638|                   Enplaned|                   11638|2005| July|  7|\n",
            "|         200507|  Air New Zealand|                         NZ|  Air New Zealand|                         NZ|International|Australia / Oceania|          Deplaned|              Other|International|            G|           4998|                   Deplaned|                    4998|2005| July|  7|\n",
            "|         200507|  Air New Zealand|                         NZ|  Air New Zealand|                         NZ|International|Australia / Oceania|          Enplaned|              Other|International|            G|           4962|                   Enplaned|                    4962|2005| July|  7|\n",
            "|         200507|  AirTran Airways|                         FL|  AirTran Airways|                         FL|     Domestic|                 US|          Deplaned|           Low Fare|International|            A|           8055|                   Deplaned|                    8055|2005| July|  7|\n",
            "|         200507|  AirTran Airways|                         FL|  AirTran Airways|                         FL|     Domestic|                 US|          Enplaned|           Low Fare|International|            A|           7984|                   Enplaned|                    7984|2005| July|  7|\n",
            "|         200507|  Alaska Airlines|                         AS|  Alaska Airlines|                         AS|     Domestic|                 US|          Deplaned|              Other|International|            A|          36641|                   Deplaned|                   36641|2005| July|  7|\n",
            "|         200507|  Alaska Airlines|                         AS|  Alaska Airlines|                         AS|     Domestic|                 US|          Enplaned|              Other|International|            A|          39379|                   Enplaned|                   39379|2005| July|  7|\n",
            "|         200507|  Alaska Airlines|                         AS|  Alaska Airlines|                         AS|     Domestic|                 US|    Thru / Transit|              Other|International|            A|           3678|         Thru / Transit * 2|                    7356|2005| July|  7|\n",
            "|         200507|  Alaska Airlines|                         AS|  Alaska Airlines|                         AS|International|             Canada|          Deplaned|              Other|International|            A|           7977|                   Deplaned|                    7977|2005| July|  7|\n",
            "|         200507|  Alaska Airlines|                         AS|  Alaska Airlines|                         AS|International|             Canada|          Enplaned|              Other|International|            A|           8837|                   Enplaned|                    8837|2005| July|  7|\n",
            "|         200507|  Alaska Airlines|                         AS|  Alaska Airlines|                         AS|International|             Mexico|          Deplaned|              Other|International|            A|           6969|                   Deplaned|                    6969|2005| July|  7|\n",
            "|         200507|  Alaska Airlines|                         AS|  Alaska Airlines|                         AS|International|             Mexico|          Enplaned|              Other|International|            A|          10046|                   Enplaned|                   10046|2005| July|  7|\n",
            "+---------------+-----------------+---------------------------+-----------------+---------------------------+-------------+-------------------+------------------+-------------------+-------------+-------------+---------------+---------------------------+------------------------+----+-----+---+\n",
            "only showing top 20 rows\n",
            "\n"
          ]
        }
      ]
    },
    {
      "cell_type": "code",
      "source": [
        "datos_limpios = datos_limpios.withColumnRenamed(\"GEO Region\", \"GEO_Region\")\n",
        "datos_limpios = datos_limpios.withColumnRenamed(\"Passenger Count\", \"Cantidad_pasajeros\")\n",
        "datos_limpios = datos_limpios.withColumnRenamed(\"GEO Summary\", \"GEO_Summary\")\n",
        "datos_limpios = datos_limpios.withColumnRenamed(\"Operating Airline\", \"Operating_Airline\")"
      ],
      "metadata": {
        "id": "xJ1GuqtPMhd_"
      },
      "execution_count": 97,
      "outputs": []
    },
    {
      "cell_type": "code",
      "source": [
        "df_media_norte = datos_limpios.groupBy('hemisferio', 'mes') \\\n",
        "    .agg(F.mean('Cantidad_pasajeros').alias('Media_pasajeros_mes')) \\\n",
        "    .orderBy('mes')\n",
        "print(df_media_norte.columns)"
      ],
      "metadata": {
        "colab": {
          "base_uri": "https://localhost:8080/"
        },
        "id": "o8Q2h1OmB-G8",
        "outputId": "762b4ac1-8d23-4407-d8c9-d7829dc9bda0"
      },
      "execution_count": 57,
      "outputs": [
        {
          "output_type": "stream",
          "name": "stdout",
          "text": [
            "['hemisferio', 'mes', 'Media_pasajeros_mes']\n"
          ]
        }
      ]
    },
    {
      "cell_type": "code",
      "source": [
        "\n",
        "\n",
        "df_media_norte = df_media_norte.filter(df_media_norte.hemisferio == \"Norte\")\n",
        "df_norte_pandas = df_media_norte.toPandas()\n",
        "\n",
        "\n",
        "plt.figure(figsize=(10, 6))\n",
        "\n",
        "\n",
        "sns.lineplot(data=df_norte_pandas, x='mes', y='Media_pasajeros_mes',\n",
        "             marker='o', color='skyblue', label='Hemisferio Norte', linewidth=2)\n",
        "\n",
        "\n",
        "plt.title('Pasajeros por Mes y Hemisferio Norte', fontsize=16)\n",
        "plt.xlabel('Mes', fontsize=12)\n",
        "plt.ylabel('Número de Pasajeros', fontsize=12)\n",
        "plt.grid(True)\n",
        "plt.xticks(rotation=45)\n",
        "plt.legend()\n",
        "\n",
        "\n",
        "plt.tight_layout()\n",
        "plt.show()\n",
        "\n",
        "print(df_norte_pandas)"
      ],
      "metadata": {
        "colab": {
          "base_uri": "https://localhost:8080/",
          "height": 833
        },
        "id": "E-bDk8Ct_WOx",
        "outputId": "9afe5f8f-ca1d-4dd2-af08-1028e61e2e9a"
      },
      "execution_count": 78,
      "outputs": [
        {
          "output_type": "display_data",
          "data": {
            "text/plain": [
              "<Figure size 1000x600 with 1 Axes>"
            ],
            "image/png": "[encoded data removed]"
          },
          "metadata": {}
        },
        {
          "output_type": "stream",
          "name": "stdout",
          "text": [
            "   hemisferio  mes  Media_pasajeros_mes\n",
            "0       Norte    1         29892.339336\n",
            "1       Norte    2         28102.716490\n",
            "2       Norte    3         34124.395169\n",
            "3       Norte    4         33093.831776\n",
            "4       Norte    5         34942.133130\n",
            "5       Norte    6         36444.413413\n",
            "6       Norte    7         37315.999090\n",
            "7       Norte    8         37307.416968\n",
            "8       Norte    9         32955.732240\n",
            "9       Norte   10         34008.424132\n",
            "10      Norte   11         31873.974432\n",
            "11      Norte   12         32956.137274\n"
          ]
        }
      ]
    },
    {
      "cell_type": "code",
      "source": [
        "df_media_sur = datos_limpios.groupBy('hemisferio', 'mes') \\\n",
        "    .agg(F.mean('Cantidad_pasajeros').alias('Media_pasajeros_mes_sur')) \\\n",
        "    .orderBy('mes')\n",
        "\n"
      ],
      "metadata": {
        "id": "Mo2qd5H4Dgk3"
      },
      "execution_count": 176,
      "outputs": []
    },
    {
      "cell_type": "code",
      "source": [
        "\n",
        "df_media_sur = df_media_sur.filter(df_media_sur.hemisferio == \"Sur\")\n",
        "df_sur_pandas = df_media_sur.toPandas()\n",
        "\n",
        "\n"
      ],
      "metadata": {
        "id": "xj4d2OahGS4l"
      },
      "execution_count": 177,
      "outputs": []
    },
    {
      "cell_type": "code",
      "source": [
        "\n",
        "plt.figure(figsize=(10, 6))\n",
        "\n",
        "\n",
        "sns.lineplot(data=df_sur_pandas, x='mes', y='Media_pasajeros_mes_sur',\n",
        "             marker='o', color='skyblue', label='Hemisferio Sur', linewidth=2)\n",
        "\n",
        "\n",
        "plt.title('Pasajeros por Mes y Hemisferio Sur', fontsize=16)\n",
        "plt.xlabel('Mes', fontsize=12)\n",
        "plt.ylabel('Número de Pasajeros', fontsize=12)\n",
        "plt.grid(True)\n",
        "plt.xticks(rotation=45)\n",
        "plt.legend()\n",
        "\n",
        "\n",
        "plt.tight_layout()\n",
        "plt.show()\n",
        "\n",
        "print(df_sur_pandas)"
      ],
      "metadata": {
        "colab": {
          "base_uri": "https://localhost:8080/",
          "height": 833
        },
        "id": "bBjyynL-HWV_",
        "outputId": "9c86e90c-bf43-48b3-e208-c1a877748736"
      },
      "execution_count": 178,
      "outputs": [
        {
          "output_type": "display_data",
          "data": {
            "text/plain": [
              "<Figure size 1000x600 with 1 Axes>"
            ],
            "image/png": "[encoded data removed]"
          },
          "metadata": {}
        },
        {
          "output_type": "stream",
          "name": "stdout",
          "text": [
            "   hemisferio  mes  Media_pasajeros_mes_sur\n",
            "0         Sur    1              7178.845070\n",
            "1         Sur    2              5711.591549\n",
            "2         Sur    3              5843.246575\n",
            "3         Sur    4              5517.153846\n",
            "4         Sur    5              5216.151515\n",
            "5         Sur    6              6053.253968\n",
            "6         Sur    7              6518.300000\n",
            "7         Sur    8              5894.371429\n",
            "8         Sur    9              5899.869565\n",
            "9         Sur   10              5875.347826\n",
            "10        Sur   11              5638.043478\n",
            "11        Sur   12              6812.197183\n"
          ]
        }
      ]
    },
    {
      "cell_type": "code",
      "source": [
        "df_media_centro = datos_limpios.groupBy('hemisferio', 'mes') \\\n",
        "    .agg(F.mean('Cantidad_pasajeros').alias('Media_pasajeros_mes_centro')) \\\n",
        "    .orderBy('mes')"
      ],
      "metadata": {
        "id": "d0cKVUCzKPyt"
      },
      "execution_count": 92,
      "outputs": []
    },
    {
      "cell_type": "code",
      "source": [
        "\n",
        "df_media_centro = df_media_centro.filter(df_media_centro.hemisferio == \"Centro\")\n",
        "df_centro_pandas = df_media_centro.toPandas()\n"
      ],
      "metadata": {
        "id": "pSiy53KWKPmn"
      },
      "execution_count": 93,
      "outputs": []
    },
    {
      "cell_type": "code",
      "source": [
        "\n",
        "plt.figure(figsize=(10, 6))\n",
        "\n",
        "\n",
        "sns.lineplot(data=df_centro_pandas, x='mes', y='Media_pasajeros_mes_centro',\n",
        "             marker='o', color='skyblue', label='Hemisferio Centro', linewidth=2)\n",
        "\n",
        "\n",
        "plt.title('Pasajeros por Mes y Hemisferio Centro', fontsize=16)\n",
        "plt.xlabel('Mes', fontsize=12)\n",
        "plt.ylabel('Número de Pasajeros', fontsize=12)\n",
        "plt.grid(True)\n",
        "plt.xticks(rotation=45)\n",
        "plt.legend()\n",
        "\n",
        "plt.tight_layout()\n",
        "plt.show()\n",
        "\n",
        "print(df_centro_pandas)"
      ],
      "metadata": {
        "colab": {
          "base_uri": "https://localhost:8080/",
          "height": 833
        },
        "id": "n8rbddqXGNQC",
        "outputId": "b14788de-a490-4655-c533-ba8bc7a204fc"
      },
      "execution_count": 96,
      "outputs": [
        {
          "output_type": "display_data",
          "data": {
            "text/plain": [
              "<Figure size 1000x600 with 1 Axes>"
            ],
            "image/png": "[encoded data removed]"
          },
          "metadata": {}
        },
        {
          "output_type": "stream",
          "name": "stdout",
          "text": [
            "   hemisferio  mes  Media_pasajeros_mes_centro\n",
            "0      Centro    1                 7334.830986\n",
            "1      Centro    2                 6097.020408\n",
            "2      Centro    3                 7189.882759\n",
            "3      Centro    4                 7263.024793\n",
            "4      Centro    5                 6816.754098\n",
            "5      Centro    6                 7707.305785\n",
            "6      Centro    7                 8101.126866\n",
            "7      Centro    8                 7609.356061\n",
            "8      Centro    9                 5109.938462\n",
            "9      Centro   10                 5914.931818\n",
            "10     Centro   11                 6816.181159\n",
            "11     Centro   12                 7970.165468\n"
          ]
        }
      ]
    },
    {
      "cell_type": "code",
      "source": [
        "datos_aerolinea = datos_limpios.groupBy('Operating Airline', 'mes') \\\n",
        "    .agg(F.mean('Passenger Count').alias('Media_pasajeros_mes_aerolinea')) \\\n",
        "    .orderBy('mes')"
      ],
      "metadata": {
        "id": "2PncAbpmir1q"
      },
      "execution_count": 16,
      "outputs": []
    },
    {
      "cell_type": "code",
      "source": [
        "datos_aerolinea_ano = datos_limpios.groupBy('Year', 'Operating Airline') \\\n",
        "    .agg(F.mean('Passenger Count').alias('Media_pasajeros_ano_aerolinea')) \\\n",
        "    .orderBy('Year')"
      ],
      "metadata": {
        "id": "Z3wtKJEQir45"
      },
      "execution_count": 17,
      "outputs": []
    },
    {
      "cell_type": "code",
      "source": [],
      "metadata": {
        "id": "gnmvB6iiir8G"
      },
      "execution_count": 18,
      "outputs": []
    },
    {
      "cell_type": "code",
      "source": [
        "datos_limpios = datos_limpios.withColumn(\n",
        "    \"hemisferio\",\n",
        "    F.when(\n",
        "        (F.col(\"GEO_Region\").isin(\"Asia\", \"Canada\", \"US\", \"Europe\")), \"Norte\"\n",
        "    ).when(\n",
        "        (F.col(\"GEO_Region\").isin(\"Australia / Oceania\", \"South America\")), \"Sur\"\n",
        "    ).when(\n",
        "        (F.col(\"GEO_Region\").isin(\"Central America\", \"Middle East\", \"Mexico\")), \"Centro\"\n",
        "    ).otherwise(None)\n",
        ")\n",
        "\n",
        "datos_limpios = datos_limpios.withColumn(\n",
        "    \"Region\",\n",
        "    F.when(\n",
        "        (F.col(\"GEO_Region\").isin(\"US\")), 1\n",
        "    ).when(\n",
        "        (F.col(\"GEO_Region\").isin(\"Canada\")), 2\n",
        "    ).when(\n",
        "        (F.col(\"GEO_Region\").isin(\"Europe\")), 3\n",
        "    ).when(\n",
        "        (F.col(\"GEO_Region\").isin(\"Australia / Oceania\")), 4\n",
        "    ).when(\n",
        "        (F.col(\"GEO_Region\").isin(\"Mexico\")), 5\n",
        "    ).when(\n",
        "        (F.col(\"GEO_Region\").isin(\"South America\")), 6\n",
        "    ).when(\n",
        "        (F.col(\"GEO_Region\").isin(\"Asia\")), 7\n",
        "    ).when(\n",
        "        (F.col(\"GEO_Region\").isin(\"Middle East\")), 8\n",
        "    ).when(\n",
        "        (F.col(\"GEO_Region\").isin(\"Central America\")), 9\n",
        "    ).otherwise(None) )\n",
        "\n",
        "datos_limpios.show()"
      ],
      "metadata": {
        "colab": {
          "base_uri": "https://localhost:8080/"
        },
        "id": "CayeE0Q8ir_U",
        "outputId": "feee5b16-606a-44fa-e550-c71c06753295"
      },
      "execution_count": 19,
      "outputs": [
        {
          "output_type": "stream",
          "name": "stdout",
          "text": [
            "+---------------+-----------------+---------------------------+-----------------+---------------------------+-------------+-------------------+------------------+-------------------+-------------+-------------+------------------+---------------------------+------------------------+----+-----+---+----------+------+\n",
            "|Activity Period|Operating_Airline|Operating Airline IATA Code|Published Airline|Published Airline IATA Code|  GEO_Summary|         GEO_Region|Activity Type Code|Price Category Code|     Terminal|Boarding Area|Cantidad_pasajeros|Adjusted Activity Type Code|Adjusted Passenger Count|Year|Month|mes|hemisferio|Region|\n",
            "+---------------+-----------------+---------------------------+-----------------+---------------------------+-------------+-------------------+------------------+-------------------+-------------+-------------+------------------+---------------------------+------------------------+----+-----+---+----------+------+\n",
            "|         200507|     ATA Airlines|                         TZ|     ATA Airlines|                         TZ|     Domestic|                 US|          Deplaned|           Low Fare|   Terminal 1|            B|             27271|                   Deplaned|                   27271|2005| July|  7|     Norte|     1|\n",
            "|         200507|     ATA Airlines|                         TZ|     ATA Airlines|                         TZ|     Domestic|                 US|          Enplaned|           Low Fare|   Terminal 1|            B|             29131|                   Enplaned|                   29131|2005| July|  7|     Norte|     1|\n",
            "|         200507|     ATA Airlines|                         TZ|     ATA Airlines|                         TZ|     Domestic|                 US|    Thru / Transit|           Low Fare|   Terminal 1|            B|              5415|         Thru / Transit * 2|                   10830|2005| July|  7|     Norte|     1|\n",
            "|         200507|      Air Canada |                         AC|      Air Canada |                         AC|International|             Canada|          Deplaned|              Other|   Terminal 1|            B|             35156|                   Deplaned|                   35156|2005| July|  7|     Norte|     2|\n",
            "|         200507|      Air Canada |                         AC|      Air Canada |                         AC|International|             Canada|          Enplaned|              Other|   Terminal 1|            B|             34090|                   Enplaned|                   34090|2005| July|  7|     Norte|     2|\n",
            "|         200507|        Air China|                         CA|        Air China|                         CA|International|               Asia|          Deplaned|              Other|International|            G|              6263|                   Deplaned|                    6263|2005| July|  7|     Norte|     7|\n",
            "|         200507|        Air China|                         CA|        Air China|                         CA|International|               Asia|          Enplaned|              Other|International|            G|              5500|                   Enplaned|                    5500|2005| July|  7|     Norte|     7|\n",
            "|         200507|       Air France|                         AF|       Air France|                         AF|International|             Europe|          Deplaned|              Other|International|            A|             12050|                   Deplaned|                   12050|2005| July|  7|     Norte|     3|\n",
            "|         200507|       Air France|                         AF|       Air France|                         AF|International|             Europe|          Enplaned|              Other|International|            A|             11638|                   Enplaned|                   11638|2005| July|  7|     Norte|     3|\n",
            "|         200507|  Air New Zealand|                         NZ|  Air New Zealand|                         NZ|International|Australia / Oceania|          Deplaned|              Other|International|            G|              4998|                   Deplaned|                    4998|2005| July|  7|       Sur|     4|\n",
            "|         200507|  Air New Zealand|                         NZ|  Air New Zealand|                         NZ|International|Australia / Oceania|          Enplaned|              Other|International|            G|              4962|                   Enplaned|                    4962|2005| July|  7|       Sur|     4|\n",
            "|         200507|  AirTran Airways|                         FL|  AirTran Airways|                         FL|     Domestic|                 US|          Deplaned|           Low Fare|International|            A|              8055|                   Deplaned|                    8055|2005| July|  7|     Norte|     1|\n",
            "|         200507|  AirTran Airways|                         FL|  AirTran Airways|                         FL|     Domestic|                 US|          Enplaned|           Low Fare|International|            A|              7984|                   Enplaned|                    7984|2005| July|  7|     Norte|     1|\n",
            "|         200507|  Alaska Airlines|                         AS|  Alaska Airlines|                         AS|     Domestic|                 US|          Deplaned|              Other|International|            A|             36641|                   Deplaned|                   36641|2005| July|  7|     Norte|     1|\n",
            "|         200507|  Alaska Airlines|                         AS|  Alaska Airlines|                         AS|     Domestic|                 US|          Enplaned|              Other|International|            A|             39379|                   Enplaned|                   39379|2005| July|  7|     Norte|     1|\n",
            "|         200507|  Alaska Airlines|                         AS|  Alaska Airlines|                         AS|     Domestic|                 US|    Thru / Transit|              Other|International|            A|              3678|         Thru / Transit * 2|                    7356|2005| July|  7|     Norte|     1|\n",
            "|         200507|  Alaska Airlines|                         AS|  Alaska Airlines|                         AS|International|             Canada|          Deplaned|              Other|International|            A|              7977|                   Deplaned|                    7977|2005| July|  7|     Norte|     2|\n",
            "|         200507|  Alaska Airlines|                         AS|  Alaska Airlines|                         AS|International|             Canada|          Enplaned|              Other|International|            A|              8837|                   Enplaned|                    8837|2005| July|  7|     Norte|     2|\n",
            "|         200507|  Alaska Airlines|                         AS|  Alaska Airlines|                         AS|International|             Mexico|          Deplaned|              Other|International|            A|              6969|                   Deplaned|                    6969|2005| July|  7|    Centro|     5|\n",
            "|         200507|  Alaska Airlines|                         AS|  Alaska Airlines|                         AS|International|             Mexico|          Enplaned|              Other|International|            A|             10046|                   Enplaned|                   10046|2005| July|  7|    Centro|     5|\n",
            "+---------------+-----------------+---------------------------+-----------------+---------------------------+-------------+-------------------+------------------+-------------------+-------------+-------------+------------------+---------------------------+------------------------+----+-----+---+----------+------+\n",
            "only showing top 20 rows\n",
            "\n"
          ]
        }
      ]
    },
    {
      "cell_type": "code",
      "source": [
        "datos_limpios_pandas = datos_limpios.toPandas()\n",
        "\n",
        "# Ajustar el modelo OLS con la fórmula correcta\n",
        "model = ols('Cantidad_pasajeros ~ C(mes)', data=datos_limpios_pandas).fit()\n",
        "anova_table = sm.stats.anova_lm(model, typ=2)\n",
        "print(anova_table)"
      ],
      "metadata": {
        "colab": {
          "base_uri": "https://localhost:8080/"
        },
        "id": "uVnAu2A8isgu",
        "outputId": "c246def2-5586-4583-91a5-940789a0080a"
      },
      "execution_count": 20,
      "outputs": [
        {
          "output_type": "stream",
          "name": "stdout",
          "text": [
            "                sum_sq       df         F   PR(>F)\n",
            "C(mes)    8.782709e+10     11.0  2.349836  0.00687\n",
            "Residual  5.095006e+13  14995.0       NaN      NaN\n"
          ]
        }
      ]
    },
    {
      "cell_type": "code",
      "source": [
        "resultado = datos_limpios.groupBy(\"GEO_Region\").agg(\n",
        "    F.avg(\"Cantidad_pasajeros\").alias(\"media_pasajeros\")\n",
        ")\n",
        "resultado.show()"
      ],
      "metadata": {
        "colab": {
          "base_uri": "https://localhost:8080/"
        },
        "id": "njGk5YVxisjY",
        "outputId": "4d0f32f4-850f-462c-d018-32673b99fb7d"
      },
      "execution_count": 21,
      "outputs": [
        {
          "output_type": "stream",
          "name": "stdout",
          "text": [
            "+-------------------+------------------+\n",
            "|         GEO_Region|   media_pasajeros|\n",
            "+-------------------+------------------+\n",
            "|             Europe|12755.652465294399|\n",
            "|    Central America| 4946.715328467153|\n",
            "|                 US| 58330.34345351044|\n",
            "|      South America| 2786.011111111111|\n",
            "|             Mexico|  7173.62062780269|\n",
            "|        Middle East|  8658.61214953271|\n",
            "|             Canada|   9777.9682651622|\n",
            "|Australia / Oceania| 6417.016282225238|\n",
            "|               Asia| 13435.00458295142|\n",
            "+-------------------+------------------+\n",
            "\n"
          ]
        }
      ]
    },
    {
      "cell_type": "code",
      "source": [
        "resultado = datos_limpios.groupBy(\"Price Category Code\").agg(\n",
        "    F.avg(\"Cantidad_pasajeros\").alias(\"media_pasajeros\")\n",
        ")\n",
        "resultado = resultado.orderBy(\"media_pasajeros\", ascending=True)\n",
        "resultado.show()"
      ],
      "metadata": {
        "colab": {
          "base_uri": "https://localhost:8080/"
        },
        "id": "mxEPf387jlrj",
        "outputId": "d9a551f9-41de-402d-c0c1-1e402401f0aa"
      },
      "execution_count": 22,
      "outputs": [
        {
          "output_type": "stream",
          "name": "stdout",
          "text": [
            "+-------------------+------------------+\n",
            "|Price Category Code|   media_pasajeros|\n",
            "+-------------------+------------------+\n",
            "|              Other|27787.546114464734|\n",
            "|           Low Fare| 39144.21041666667|\n",
            "+-------------------+------------------+\n",
            "\n"
          ]
        }
      ]
    },
    {
      "cell_type": "code",
      "source": [
        "resultado = datos_limpios.groupBy(\"Year\").agg(\n",
        "    F.avg(\"Cantidad_pasajeros\").alias(\"media_pasajeros\")\n",
        ")\n",
        "resultado = resultado.orderBy(\"media_pasajeros\", ascending=True)\n",
        "resultado.show()"
      ],
      "metadata": {
        "colab": {
          "base_uri": "https://localhost:8080/"
        },
        "id": "DXFKnMl9jluM",
        "outputId": "92837d98-47c4-4bd4-fc40-bf6e4cc52411"
      },
      "execution_count": 23,
      "outputs": [
        {
          "output_type": "stream",
          "name": "stdout",
          "text": [
            "+----+------------------+\n",
            "|Year|   media_pasajeros|\n",
            "+----+------------------+\n",
            "|2006|24348.407596785975|\n",
            "|2005|24779.903597122302|\n",
            "|2007| 25233.55713271824|\n",
            "|2008| 25983.72505233775|\n",
            "|2009|26804.696338837042|\n",
            "|2010|28383.224150397687|\n",
            "|2011| 29444.45035971223|\n",
            "|2016|30808.212938005392|\n",
            "|2012|32220.526124818578|\n",
            "|2013| 33097.02503681885|\n",
            "|2015| 34286.22397260274|\n",
            "|2014| 34440.51973684211|\n",
            "+----+------------------+\n",
            "\n"
          ]
        }
      ]
    },
    {
      "cell_type": "code",
      "source": [
        "resultado = datos_limpios.groupBy(\"Month\").agg(\n",
        "    F.avg(\"Cantidad_pasajeros\").alias(\"media_pasajeros\")\n",
        ")\n",
        "resultado = resultado.orderBy(\"media_pasajeros\", ascending=True)\n",
        "resultado.show()"
      ],
      "metadata": {
        "colab": {
          "base_uri": "https://localhost:8080/"
        },
        "id": "Yk5tvofqjlxI",
        "outputId": "1946d1dc-2b86-450c-8e0a-0b22cf05ff5c"
      },
      "execution_count": 24,
      "outputs": [
        {
          "output_type": "stream",
          "name": "stdout",
          "text": [
            "+---------+------------------+\n",
            "|    Month|   media_pasajeros|\n",
            "+---------+------------------+\n",
            "| February| 24258.40796812749|\n",
            "|  January| 26094.37066246057|\n",
            "| November|27702.751385589865|\n",
            "| December|28723.198570293884|\n",
            "|September|28725.348496530456|\n",
            "|    April|28813.577893820715|\n",
            "|    March|29359.807661612133|\n",
            "|  October|29645.857915057913|\n",
            "|      May|30340.417235494882|\n",
            "|     June|31886.650887573964|\n",
            "|   August|32636.380916030535|\n",
            "|     July|32657.033768227167|\n",
            "+---------+------------------+\n",
            "\n"
          ]
        }
      ]
    },
    {
      "cell_type": "code",
      "source": [
        "resultado = datos_limpios.groupBy(\"GEO_Summary\").agg(\n",
        "    F.avg(\"Cantidad_pasajeros\").alias(\"media_pasajeros\")\n",
        ")\n",
        "resultado = resultado.orderBy(\"media_pasajeros\", ascending=True)\n",
        "resultado.show()"
      ],
      "metadata": {
        "colab": {
          "base_uri": "https://localhost:8080/"
        },
        "id": "EPfr-rSijl0H",
        "outputId": "d8fc579c-38f0-45a3-b6d5-2ec2b8c77a1f"
      },
      "execution_count": 25,
      "outputs": [
        {
          "output_type": "stream",
          "name": "stdout",
          "text": [
            "+-------------+------------------+\n",
            "|  GEO_Summary|   media_pasajeros|\n",
            "+-------------+------------------+\n",
            "|International|10930.673072747015|\n",
            "|     Domestic| 58330.34345351044|\n",
            "+-------------+------------------+\n",
            "\n"
          ]
        }
      ]
    },
    {
      "cell_type": "code",
      "source": [
        "resultado = datos_limpios.groupBy(\"GEO_Summary\").agg(\n",
        "    F.stddev(\"Cantidad_pasajeros\").alias(\"media_pasajeros\")\n",
        ")\n",
        "resultado = resultado.orderBy(\"media_pasajeros\", ascending=True)\n",
        "resultado.show()"
      ],
      "metadata": {
        "colab": {
          "base_uri": "https://localhost:8080/"
        },
        "id": "_CITVcXejl28",
        "outputId": "34b5baa9-22ae-43bb-e574-568137d165c1"
      },
      "execution_count": 26,
      "outputs": [
        {
          "output_type": "stream",
          "name": "stdout",
          "text": [
            "+-------------+------------------+\n",
            "|  GEO_Summary|   media_pasajeros|\n",
            "+-------------+------------------+\n",
            "|International|11493.706383971215|\n",
            "|     Domestic| 84951.31664013123|\n",
            "+-------------+------------------+\n",
            "\n"
          ]
        }
      ]
    },
    {
      "cell_type": "code",
      "source": [
        "resultado = datos_limpios.groupBy(\"GEO_Region\").agg(\n",
        "    F.stddev(\"Cantidad_pasajeros\").alias(\"desv_pasajeros\")\n",
        ")\n",
        "resultado = resultado.orderBy(\"desv_pasajeros\", ascending=True)\n",
        "resultado.show()"
      ],
      "metadata": {
        "colab": {
          "base_uri": "https://localhost:8080/"
        },
        "id": "l3SWCH6Pjl6F",
        "outputId": "8b009e45-19ae-4814-fcfb-7fccb2de2194"
      },
      "execution_count": 27,
      "outputs": [
        {
          "output_type": "stream",
          "name": "stdout",
          "text": [
            "+-------------------+------------------+\n",
            "|         GEO_Region|    desv_pasajeros|\n",
            "+-------------------+------------------+\n",
            "|      South America| 396.7586506195526|\n",
            "|    Central America|1220.8403125914656|\n",
            "|        Middle East|   2732.7195183986|\n",
            "|Australia / Oceania|2799.8406500183883|\n",
            "|             Mexico| 5336.223001980255|\n",
            "|             Canada| 7833.110588404248|\n",
            "|             Europe| 8634.076411562175|\n",
            "|               Asia|16188.148775860833|\n",
            "|                 US| 84951.31664013123|\n",
            "+-------------------+------------------+\n",
            "\n"
          ]
        }
      ]
    },
    {
      "cell_type": "code",
      "source": [
        "resultado = datos_limpios.groupBy(\"Month\").agg(\n",
        "    F.stddev(\"Cantidad_pasajeros\").alias(\"desv_pasajeros\")\n",
        ")\n",
        "resultado = resultado.orderBy(\"desv_pasajeros\", ascending=True)\n",
        "resultado.show()"
      ],
      "metadata": {
        "colab": {
          "base_uri": "https://localhost:8080/"
        },
        "id": "nWrbRvdzjl8z",
        "outputId": "751e69aa-1d40-4d66-cbcd-3dc6540382e5"
      },
      "execution_count": 28,
      "outputs": [
        {
          "output_type": "stream",
          "name": "stdout",
          "text": [
            "+---------+------------------+\n",
            "|    Month|    desv_pasajeros|\n",
            "+---------+------------------+\n",
            "| February|  47569.0069987234|\n",
            "|  January| 51294.88007998184|\n",
            "| November|56175.549821247325|\n",
            "|    April|56293.933065065205|\n",
            "|    March|57519.653386710845|\n",
            "| December| 57566.02013447425|\n",
            "|September| 58236.29488536921|\n",
            "|      May| 59000.17436267259|\n",
            "|  October| 60490.12293144308|\n",
            "|     June|61424.496549347394|\n",
            "|     July|65309.479556884944|\n",
            "|   August| 65568.50655076625|\n",
            "+---------+------------------+\n",
            "\n"
          ]
        }
      ]
    },
    {
      "cell_type": "code",
      "source": [
        "resultado = datos_limpios.groupBy(\"Year\").agg(\n",
        "    F.stddev(\"Cantidad_pasajeros\").alias(\"desv_pasajeros\")\n",
        ")\n",
        "resultado = resultado.orderBy(\"desv_pasajeros\", ascending=True)\n",
        "resultado.show()"
      ],
      "metadata": {
        "colab": {
          "base_uri": "https://localhost:8080/"
        },
        "id": "x6W-8CX4ismZ",
        "outputId": "05b05b31-05c0-40a3-e9c0-c05739882181"
      },
      "execution_count": 29,
      "outputs": [
        {
          "output_type": "stream",
          "name": "stdout",
          "text": [
            "+----+------------------+\n",
            "|Year|    desv_pasajeros|\n",
            "+----+------------------+\n",
            "|2008|  50774.2273603889|\n",
            "|2007|52686.333022728555|\n",
            "|2006| 53418.13826968551|\n",
            "|2005| 54774.38414321783|\n",
            "|2009| 55096.04274953367|\n",
            "|2016|56351.917740411474|\n",
            "|2010|  57782.3443543718|\n",
            "|2011|57938.886803724185|\n",
            "|2012|58612.368565066805|\n",
            "|2015|62735.130892386165|\n",
            "|2014| 63694.36786274649|\n",
            "|2013| 69500.20489950952|\n",
            "+----+------------------+\n",
            "\n"
          ]
        }
      ]
    },
    {
      "cell_type": "code",
      "source": [
        "resultado = datos_limpios.groupBy(\"Operating_Airline\").agg(\n",
        "    F.mean(\"Cantidad_pasajeros\").alias(\"media_pasajeros\")\n",
        ")\n",
        "resultado = resultado.orderBy(\"media_pasajeros\", ascending=True)\n",
        "resultado_filtrado = resultado.filter(\n",
        "    (F.col(\"media_pasajeros\").isNotNull()) & (F.col(\"media_pasajeros\") != 0.0)\n",
        ")\n",
        "resultado_filtrado.show()"
      ],
      "metadata": {
        "colab": {
          "base_uri": "https://localhost:8080/"
        },
        "id": "IyCf50Y1MUqN",
        "outputId": "f7a89f20-753d-4427-fe54-e5aa636e707d"
      },
      "execution_count": 30,
      "outputs": [
        {
          "output_type": "stream",
          "name": "stdout",
          "text": [
            "+--------------------+------------------+\n",
            "|   Operating_Airline|   media_pasajeros|\n",
            "+--------------------+------------------+\n",
            "|Evergreen Interna...|               2.0|\n",
            "|         Ameriflight|               5.0|\n",
            "|      Boeing Company|              18.0|\n",
            "|      Atlas Air, Inc|              34.0|\n",
            "|        Xtra Airways|              73.0|\n",
            "|           Servisair| 90.05555555555556|\n",
            "|Miami Air Interna...|           107.375|\n",
            "|    Pacific Aviation|             160.0|\n",
            "|       Swissport USA|             258.6|\n",
            "|       World Airways| 261.6666666666667|\n",
            "|     Air Canada Jazz| 294.2142857142857|\n",
            "|     BelAir Airlines| 415.3636363636364|\n",
            "|       Allegiant Air|         1516.8125|\n",
            "|Atlantic Southeas...| 2176.909090909091|\n",
            "|   XL Airways France|2223.1612903225805|\n",
            "|          Air Berlin|           2320.75|\n",
            "|   Republic Airlines|            2452.5|\n",
            "|            LAN Peru| 2786.011111111111|\n",
            "|          Icelandair|            2799.7|\n",
            "|   Air India Limited|            2834.5|\n",
            "+--------------------+------------------+\n",
            "only showing top 20 rows\n",
            "\n"
          ]
        }
      ]
    },
    {
      "cell_type": "code",
      "source": [
        "resultado = datos_limpios.groupBy(\"Operating_Airline\").agg(\n",
        "    F.stddev(\"Cantidad_pasajeros\").alias(\"desv_pasajeros\")\n",
        ")\n",
        "resultado = resultado.orderBy(\"desv_pasajeros\", ascending=True)\n",
        "resultado_filtrado = resultado.filter(\n",
        "    (F.col(\"desv_pasajeros\").isNotNull()) & (F.col(\"desv_pasajeros\") != 0.0)\n",
        ")\n",
        "resultado_filtrado.show()"
      ],
      "metadata": {
        "colab": {
          "base_uri": "https://localhost:8080/"
        },
        "id": "3Hjx_xC3j3BX",
        "outputId": "2ccaaecd-9c2c-485f-dda2-afdd2e52b88a"
      },
      "execution_count": 31,
      "outputs": [
        {
          "output_type": "stream",
          "name": "stdout",
          "text": [
            "+--------------------+------------------+\n",
            "|   Operating_Airline|    desv_pasajeros|\n",
            "+--------------------+------------------+\n",
            "|         Ameriflight| 2.811540841738193|\n",
            "|       World Airways|  8.32666399786453|\n",
            "|      Atlas Air, Inc|43.840620433565945|\n",
            "|Miami Air Interna...|57.147615873280316|\n",
            "|           Servisair| 58.46461417910078|\n",
            "|       Swissport USA|108.63161865418637|\n",
            "|     Air Canada Jazz|123.74612881057895|\n",
            "|       Allegiant Air|   296.28594718616|\n",
            "|     BelAir Airlines|  307.386920044947|\n",
            "|   Air India Limited|332.53657156555187|\n",
            "|            LAN Peru| 396.7586506195526|\n",
            "|  All Nippon Airways| 729.6152772279747|\n",
            "|          Air Berlin| 752.8463464934738|\n",
            "|Atlantic Southeas...| 805.7488034115435|\n",
            "| COPA Airlines, Inc.| 925.0276889232697|\n",
            "|American Eagle Ai...| 972.0801476612352|\n",
            "| Swiss International|1010.2268937797376|\n",
            "|       China Eastern|1106.9863754740318|\n",
            "|                TACA|1107.0208081703788|\n",
            "|     Spirit Airlines|1139.3293022905937|\n",
            "+--------------------+------------------+\n",
            "only showing top 20 rows\n",
            "\n"
          ]
        }
      ]
    },
    {
      "cell_type": "code",
      "source": [
        "datos_limpios_pandas = datos_limpios.toPandas()\n",
        "modelo = ols('Cantidad_pasajeros ~ C(GEO_Region)', data=datos_limpios_pandas).fit()\n",
        "anova_resultado = sm.stats.anova_lm(modelo, typ=2)\n",
        "print(anova_resultado)"
      ],
      "metadata": {
        "colab": {
          "base_uri": "https://localhost:8080/"
        },
        "id": "rStiHGrNj3FU",
        "outputId": "1e4292c4-6cc8-4bec-82c5-606ce71e39eb"
      },
      "execution_count": 32,
      "outputs": [
        {
          "output_type": "stream",
          "name": "stdout",
          "text": [
            "                     sum_sq       df           F  PR(>F)\n",
            "C(GEO_Region)  8.070191e+12      8.0  352.115472     0.0\n",
            "Residual       4.296769e+13  14998.0         NaN     NaN\n"
          ]
        }
      ]
    },
    {
      "cell_type": "code",
      "source": [
        "datos_limpios_pandas = datos_limpios.toPandas()\n",
        "modelo = ols('Cantidad_pasajeros ~ C(Year)', data=datos_limpios_pandas).fit()\n",
        "anova_resultado = sm.stats.anova_lm(modelo, typ=2)\n",
        "print(anova_resultado)"
      ],
      "metadata": {
        "colab": {
          "base_uri": "https://localhost:8080/"
        },
        "id": "faUmNTIvj3If",
        "outputId": "1a9f39da-0f28-408d-e237-fc04f5011d3a"
      },
      "execution_count": 33,
      "outputs": [
        {
          "output_type": "stream",
          "name": "stdout",
          "text": [
            "                sum_sq       df         F        PR(>F)\n",
            "C(Year)   2.012608e+11     11.0  5.396799  1.269124e-08\n",
            "Residual  5.083662e+13  14995.0       NaN           NaN\n"
          ]
        }
      ]
    },
    {
      "cell_type": "code",
      "source": [
        "datos_limpios_pandas = datos_limpios.toPandas()\n",
        "modelo = ols('Cantidad_pasajeros ~ C(Operating_Airline)', data=datos_limpios_pandas).fit()\n",
        "anova_resultado = sm.stats.anova_lm(modelo, typ=2)\n",
        "print(anova_resultado)"
      ],
      "metadata": {
        "colab": {
          "base_uri": "https://localhost:8080/"
        },
        "id": "8pix-b5mj3Lk",
        "outputId": "1cbd9609-2037-41af-e5fe-ef05b40b474f"
      },
      "execution_count": 34,
      "outputs": [
        {
          "output_type": "stream",
          "name": "stdout",
          "text": [
            "                            sum_sq       df          F  PR(>F)\n",
            "C(Operating_Airline)  1.113477e+13     76.0  54.817709     0.0\n",
            "Residual              3.990311e+13  14930.0        NaN     NaN\n"
          ]
        }
      ]
    },
    {
      "cell_type": "code",
      "source": [
        "datos_limpios_pandas = datos_limpios.toPandas()\n",
        "modelo = ols('Cantidad_pasajeros ~ C(mes)', data=datos_limpios_pandas).fit()\n",
        "anova_resultado = sm.stats.anova_lm(modelo, typ=2)\n",
        "print(anova_resultado)"
      ],
      "metadata": {
        "colab": {
          "base_uri": "https://localhost:8080/"
        },
        "id": "uOe8E3pokARB",
        "outputId": "e7ed9c53-69a1-4578-cca5-972ffca1200c"
      },
      "execution_count": 35,
      "outputs": [
        {
          "output_type": "stream",
          "name": "stdout",
          "text": [
            "                sum_sq       df         F   PR(>F)\n",
            "C(mes)    8.782709e+10     11.0  2.349836  0.00687\n",
            "Residual  5.095006e+13  14995.0       NaN      NaN\n"
          ]
        }
      ]
    },
    {
      "cell_type": "code",
      "source": [
        "datos_limpios = datos_limpios.withColumn(\"label_pasajeros\",\n",
        "                   when(col(\"Cantidad_pasajeros\") < 1000, 0)\n",
        "                   .when((col(\"Cantidad_pasajeros\") >= 1000) & (col(\"Cantidad_pasajeros\") < 5000), 1)\n",
        "                   .when((col(\"Cantidad_pasajeros\") >= 5000) & (col(\"Cantidad_pasajeros\") < 10000), 2)\n",
        "                   .when((col(\"Cantidad_pasajeros\") >= 10000) & (col(\"Cantidad_pasajeros\") < 15000), 3)\n",
        "                   .otherwise(4))"
      ],
      "metadata": {
        "id": "5Rq1kPklkAbJ"
      },
      "execution_count": 112,
      "outputs": []
    },
    {
      "cell_type": "code",
      "source": [
        "datos_limpios.write.mode(\"overwrite\").csv('/content/datos_limpios', header=True)"
      ],
      "metadata": {
        "id": "DrR4yiaHkAUZ"
      },
      "execution_count": 113,
      "outputs": []
    },
    {
      "cell_type": "code",
      "source": [
        "df = spark.read.csv('/content/datos_limpios', header=True, inferSchema=True)\n",
        "airline_indexer = StringIndexer(inputCol=\"Operating_Airline\", outputCol=\"airline_indexed\")\n",
        "terminal_indexer = StringIndexer(inputCol=\"Terminal\", outputCol=\"terminal_indexed\")\n",
        "summary_indexer = StringIndexer(inputCol=\"GEO_Summary\", outputCol=\"summary_indexed\")\n",
        "price_indexer = StringIndexer(inputCol=\"Price Category Code\", outputCol=\"price_indexed\")\n",
        "\n",
        "df = airline_indexer.fit(df).transform(df)\n",
        "df = terminal_indexer.fit(df).transform(df)\n",
        "df = summary_indexer.fit(df).transform(df)\n",
        "df = price_indexer.fit(df).transform(df)\n",
        "\n",
        "assembler = VectorAssembler(inputCols=[\"Region\", \"Year\", \"mes\", \"airline_indexed\", \"summary_indexed\"], outputCol=\"features\")\n",
        "\n",
        "\n",
        "dt_classifier = DecisionTreeClassifier(\n",
        "    featuresCol=\"features\",\n",
        "    labelCol=\"label_pasajeros\",\n",
        "    maxBins=80,\n",
        "    maxDepth=30,\n",
        "    minInstancesPerNode=10\n",
        ")\n",
        "\n",
        "pipeline = Pipeline(stages=[assembler, dt_classifier])\n",
        "\n",
        "train, test = df.randomSplit([0.7, 0.3], seed=1234)\n",
        "\n",
        "model = pipeline.fit(train)\n",
        "\n",
        "predictions = model.transform(test)\n",
        "\n",
        "predictions.select(\"features\", \"Cantidad_pasajeros\", \"probability\", \"prediction\", \"label_pasajeros\").show()"
      ],
      "metadata": {
        "colab": {
          "base_uri": "https://localhost:8080/"
        },
        "id": "4R_ei8LQiQWO",
        "outputId": "6769e950-da92-4a83-91e8-521955f9f6bf"
      },
      "execution_count": 149,
      "outputs": [
        {
          "output_type": "stream",
          "name": "stdout",
          "text": [
            "+--------------------+------------------+--------------------+----------+---------------+\n",
            "|            features|Cantidad_pasajeros|         probability|prediction|label_pasajeros|\n",
            "+--------------------+------------------+--------------------+----------+---------------+\n",
            "|[1.0,2005.0,7.0,4...|             27271|[0.3,0.1,0.1,0.05...|       4.0|              4|\n",
            "|[1.0,2005.0,7.0,4...|             29131|[0.3,0.1,0.1,0.05...|       4.0|              4|\n",
            "|[2.0,2005.0,7.0,5...|             34090|[0.0,0.0,0.0,0.04...|       4.0|              4|\n",
            "|[7.0,2005.0,7.0,1...|              6545|[0.0,0.0,1.0,0.0,...|       2.0|              2|\n",
            "|[1.0,2005.0,7.0,9...|            160890|[0.0,0.0,0.0,0.0,...|       4.0|              4|\n",
            "|[1.0,2005.0,7.0,4...|              5493|[0.0,0.36,0.48,0....|       2.0|              2|\n",
            "|[1.0,2005.0,7.0,4...|              5213|[0.0,0.36,0.48,0....|       2.0|              2|\n",
            "|[7.0,2005.0,7.0,1...|              5041|[0.0,0.8571428571...|       1.0|              2|\n",
            "|[1.0,2005.0,7.0,6...|              1552|[0.0,1.0,0.0,0.0,...|       1.0|              1|\n",
            "|[3.0,2005.0,7.0,6...|               325|[0.90909090909090...|       0.0|              0|\n",
            "|[3.0,2005.0,7.0,6...|               545|[0.90909090909090...|       0.0|              0|\n",
            "|[7.0,2005.0,7.0,1...|              9628|[0.0,0.0,0.185185...|       3.0|              2|\n",
            "|[1.0,2005.0,7.0,2...|              7579|[0.0,0.0,0.987730...|       2.0|              2|\n",
            "|[1.0,2005.0,7.0,3...|              5284|[0.0,0.9268292682...|       1.0|              2|\n",
            "|[1.0,2005.0,7.0,6...|             10967|[0.0,0.7857142857...|       1.0|              3|\n",
            "|[3.0,2005.0,7.0,2...|              9587|[0.0,0.0,1.0,0.0,...|       2.0|              2|\n",
            "|[7.0,2005.0,7.0,2...|              6153|[0.0,0.0232558139...|       2.0|              2|\n",
            "|[7.0,2005.0,7.0,2...|              5646|[0.0,0.0232558139...|       2.0|              2|\n",
            "|[5.0,2005.0,7.0,3...|              7751|[0.0,0.0754716981...|       2.0|              2|\n",
            "|[5.0,2005.0,7.0,3...|              7845|[0.0,0.0754716981...|       2.0|              2|\n",
            "+--------------------+------------------+--------------------+----------+---------------+\n",
            "only showing top 20 rows\n",
            "\n"
          ]
        }
      ]
    },
    {
      "cell_type": "code",
      "source": [
        "\n",
        "evaluator = MulticlassClassificationEvaluator(\n",
        "    labelCol=\"label_pasajeros\",\n",
        "    predictionCol=\"prediction\",\n",
        "    metricName=\"accuracy\"\n",
        ")\n",
        "\n",
        "accuracy = evaluator.evaluate(predictions)\n",
        "\n",
        "print(f\"Accuracy: {accuracy * 100:.2f}%\")"
      ],
      "metadata": {
        "colab": {
          "base_uri": "https://localhost:8080/"
        },
        "id": "x3WNiHQFkIF-",
        "outputId": "f365ac0a-43b6-4901-dc93-df77a5eb3bdf"
      },
      "execution_count": 150,
      "outputs": [
        {
          "output_type": "stream",
          "name": "stdout",
          "text": [
            "Accuracy: 75.26%\n"
          ]
        }
      ]
    },
    {
      "cell_type": "code",
      "source": [
        "\n",
        "airline_indexer = StringIndexer(inputCol=\"Operating_Airline\", outputCol=\"airline_indexed\")\n",
        "terminal_indexer = StringIndexer(inputCol=\"Terminal\", outputCol=\"terminal_indexed\")\n",
        "summary_indexer = StringIndexer(inputCol=\"GEO_Summary\", outputCol=\"summary_indexed\")\n",
        "price_indexer = StringIndexer(inputCol=\"Price Category Code\", outputCol=\"price_indexed\")\n",
        "\n",
        "assembler = VectorAssembler(inputCols=[\"Region\", \"Year\", \"mes\", \"airline_indexed\", \"summary_indexed\"], outputCol=\"features\")\n",
        "\n",
        "rf_classifier = RandomForestClassifier(\n",
        "    featuresCol=\"features\",\n",
        "    labelCol=\"label_pasajeros\",\n",
        "    numTrees=100,\n",
        "    maxDepth=30,\n",
        "    minInstancesPerNode=5,\n",
        "    maxBins=80\n",
        ")\n",
        "\n",
        "pipeline = Pipeline(stages=[assembler, rf_classifier])\n",
        "\n",
        "train, test = df.randomSplit([0.8, 0.2], seed=1234)\n",
        "\n",
        "model = pipeline.fit(train)\n",
        "\n",
        "predictions = model.transform(test)\n",
        "\n",
        "predictions.select(\"features\", \"Cantidad_pasajeros\", \"probability\", \"prediction\", \"label_pasajeros\").show()"
      ],
      "metadata": {
        "colab": {
          "base_uri": "https://localhost:8080/"
        },
        "id": "hmrWZEjJkIm0",
        "outputId": "2013a036-59fc-46ad-9c4f-b5bb8a002216"
      },
      "execution_count": 151,
      "outputs": [
        {
          "output_type": "stream",
          "name": "stdout",
          "text": [
            "+--------------------+------------------+--------------------+----------+---------------+\n",
            "|            features|Cantidad_pasajeros|         probability|prediction|label_pasajeros|\n",
            "+--------------------+------------------+--------------------+----------+---------------+\n",
            "|[1.0,2005.0,7.0,4...|             29131|[0.06849017308980...|       4.0|              4|\n",
            "|[2.0,2005.0,7.0,5...|             34090|[8.75764041056394...|       4.0|              4|\n",
            "|[7.0,2005.0,7.0,1...|              6545|[0.00325824256495...|       2.0|              2|\n",
            "|[1.0,2005.0,7.0,9...|            160890|[1.04166666666666...|       4.0|              4|\n",
            "|[1.0,2005.0,7.0,4...|              5493|[0.00997057118845...|       1.0|              2|\n",
            "|[1.0,2005.0,7.0,4...|              5213|[0.00997057118845...|       1.0|              2|\n",
            "|[7.0,2005.0,7.0,1...|              5041|[0.00351444690704...|       1.0|              2|\n",
            "|[7.0,2005.0,7.0,1...|              9628|[0.0,0.0146031746...|       3.0|              2|\n",
            "|[1.0,2005.0,7.0,2...|              7579|[0.00270731116023...|       2.0|              2|\n",
            "|[1.0,2005.0,7.0,3...|              5284|[0.00808564173449...|       1.0|              2|\n",
            "|[1.0,2005.0,7.0,6...|             10967|[0.04472080987073...|       2.0|              3|\n",
            "|[3.0,2005.0,7.0,2...|              9587|[0.0,0.0142121212...|       2.0|              2|\n",
            "|[7.0,2005.0,7.0,2...|              6153|[0.0,0.1489579026...|       2.0|              2|\n",
            "|[7.0,2005.0,7.0,2...|              5646|[0.0,0.1489579026...|       2.0|              2|\n",
            "|[5.0,2005.0,7.0,3...|              7751|[0.00269793074114...|       2.0|              2|\n",
            "|[1.0,2005.0,7.0,4...|              3238|[0.00265167913272...|       1.0|              1|\n",
            "|[7.0,2005.0,7.0,2...|             12828|[0.0,0.0066830065...|       3.0|              3|\n",
            "|[7.0,2005.0,7.0,2...|             10269|[0.0,0.0066830065...|       3.0|              3|\n",
            "|[1.0,2005.0,7.0,1...|              6586|[0.00640967448121...|       4.0|              2|\n",
            "|[9.0,2005.0,7.0,2...|              7031|[0.0,0.3077217400...|       2.0|              2|\n",
            "+--------------------+------------------+--------------------+----------+---------------+\n",
            "only showing top 20 rows\n",
            "\n"
          ]
        }
      ]
    },
    {
      "cell_type": "code",
      "source": [
        "\n",
        "evaluator = MulticlassClassificationEvaluator(\n",
        "    labelCol=\"label_pasajeros\",\n",
        "    predictionCol=\"prediction\",\n",
        "    metricName=\"accuracy\"\n",
        ")\n",
        "\n",
        "accuracy = evaluator.evaluate(predictions)\n",
        "accuracy_percentage = accuracy * 100\n",
        "\n",
        "print(f\"Accuracy: {accuracy_percentage:.2f}%\")"
      ],
      "metadata": {
        "colab": {
          "base_uri": "https://localhost:8080/"
        },
        "id": "mQBRrRIhkIpr",
        "outputId": "606c7ae5-9408-4025-d3cc-dd2c581d7c51"
      },
      "execution_count": 154,
      "outputs": [
        {
          "output_type": "stream",
          "name": "stdout",
          "text": [
            "Accuracy: 79.02%\n"
          ]
        }
      ]
    },
    {
      "cell_type": "code",
      "source": [
        "airline_monthly_passengers = datos_limpios.groupBy(\"Operating_Airline\", \"mes\").agg(\n",
        "    F.sum(\"Cantidad_pasajeros\").alias(\"total_passengers\")\n",
        ")\n",
        "\n",
        "# Paso 2: Categorizar las aerolíneas según la cantidad total de pasajeros\n",
        "airline_monthly_passengers = airline_monthly_passengers.withColumn(\n",
        "    \"passenger_category\",\n",
        "    F.when(F.col(\"total_passengers\") < 100000, \"Baja\")\n",
        "    .when((F.col(\"total_passengers\") >= 100000) & (F.col(\"total_passengers\") <= 500000), \"Media\")\n",
        "    .otherwise(\"Alta\")\n",
        ")\n",
        "\n",
        "airline_monthly_passengers_pd = airline_monthly_passengers.toPandas()\n",
        "# Calcular el total acumulado de pasajeros por mes y categoría\n",
        "accumulated_passengers = airline_monthly_passengers_pd.groupby(['mes', 'passenger_category']).agg(\n",
        "    {'total_passengers': 'sum'}).reset_index()\n",
        "\n",
        "# Establecer el tamaño de la figura\n",
        "plt.figure(figsize=(12, 6))\n",
        "\n",
        "# Crear el gráfico de líneas con acumulados (Cantidad Acumulada de Pasajeros por Categoría y Mes)\n",
        "sns.lineplot(x=\"mes\", y=\"total_passengers\", hue=\"passenger_category\", data=accumulated_passengers)\n",
        "\n",
        "# Añadir título y etiquetas\n",
        "plt.title('Cantidad Acumulada de Pasajeros por Categoría y Mes')\n",
        "plt.xlabel('Mes')\n",
        "plt.ylabel('Total Acumulado de Pasajeros')\n",
        "plt.xticks(rotation=45)\n",
        "\n",
        "plt.xticks(ticks=range(1, 13), labels=[str(i) for i in range(1, 13)])\n",
        "\n",
        "# Mostrar el gráfico\n",
        "plt.tight_layout()  # Ajusta los márgenes\n",
        "plt.show()"
      ],
      "metadata": {
        "colab": {
          "base_uri": "https://localhost:8080/",
          "height": 607
        },
        "id": "YKTZkmViwXbq",
        "outputId": "c5e1b827-59dd-41da-de12-60dfe4c940ae"
      },
      "execution_count": 42,
      "outputs": [
        {
          "output_type": "display_data",
          "data": {
            "text/plain": [
              "<Figure size 1200x600 with 1 Axes>"
            ],
            "image/png": "[encoded data removed]"
          },
          "metadata": {}
        }
      ]
    },
    {
      "cell_type": "code",
      "source": [
        "df = spark.read.csv('/content/datos_limpios', header=True, inferSchema=True)\n",
        "df_norte_arbol = df.filter(df.hemisferio == 'Norte')\n",
        "df_norte_arbol.show()"
      ],
      "metadata": {
        "colab": {
          "base_uri": "https://localhost:8080/"
        },
        "id": "1LgWKr8OwXiZ",
        "outputId": "600a9102-e61f-44cc-e766-2d068b8e512c"
      },
      "execution_count": 152,
      "outputs": [
        {
          "output_type": "stream",
          "name": "stdout",
          "text": [
            "+---------------+------------------+---------------------------+------------------+---------------------------+-------------+----------+------------------+-------------------+-------------+-------------+------------------+---------------------------+------------------------+----+-----+---+----------+------+---------------+\n",
            "|Activity Period| Operating_Airline|Operating Airline IATA Code| Published Airline|Published Airline IATA Code|  GEO_Summary|GEO_Region|Activity Type Code|Price Category Code|     Terminal|Boarding Area|Cantidad_pasajeros|Adjusted Activity Type Code|Adjusted Passenger Count|Year|Month|mes|hemisferio|Region|label_pasajeros|\n",
            "+---------------+------------------+---------------------------+------------------+---------------------------+-------------+----------+------------------+-------------------+-------------+-------------+------------------+---------------------------+------------------------+----+-----+---+----------+------+---------------+\n",
            "|         200507|      ATA Airlines|                         TZ|      ATA Airlines|                         TZ|     Domestic|        US|          Deplaned|           Low Fare|   Terminal 1|            B|             27271|                   Deplaned|                   27271|2005| July|  7|     Norte|     1|              4|\n",
            "|         200507|      ATA Airlines|                         TZ|      ATA Airlines|                         TZ|     Domestic|        US|          Enplaned|           Low Fare|   Terminal 1|            B|             29131|                   Enplaned|                   29131|2005| July|  7|     Norte|     1|              4|\n",
            "|         200507|      ATA Airlines|                         TZ|      ATA Airlines|                         TZ|     Domestic|        US|    Thru / Transit|           Low Fare|   Terminal 1|            B|              5415|         Thru / Transit * 2|                   10830|2005| July|  7|     Norte|     1|              2|\n",
            "|         200507|        Air Canada|                         AC|        Air Canada|                         AC|International|    Canada|          Deplaned|              Other|   Terminal 1|            B|             35156|                   Deplaned|                   35156|2005| July|  7|     Norte|     2|              4|\n",
            "|         200507|        Air Canada|                         AC|        Air Canada|                         AC|International|    Canada|          Enplaned|              Other|   Terminal 1|            B|             34090|                   Enplaned|                   34090|2005| July|  7|     Norte|     2|              4|\n",
            "|         200507|         Air China|                         CA|         Air China|                         CA|International|      Asia|          Deplaned|              Other|International|            G|              6263|                   Deplaned|                    6263|2005| July|  7|     Norte|     7|              2|\n",
            "|         200507|         Air China|                         CA|         Air China|                         CA|International|      Asia|          Enplaned|              Other|International|            G|              5500|                   Enplaned|                    5500|2005| July|  7|     Norte|     7|              2|\n",
            "|         200507|        Air France|                         AF|        Air France|                         AF|International|    Europe|          Deplaned|              Other|International|            A|             12050|                   Deplaned|                   12050|2005| July|  7|     Norte|     3|              3|\n",
            "|         200507|        Air France|                         AF|        Air France|                         AF|International|    Europe|          Enplaned|              Other|International|            A|             11638|                   Enplaned|                   11638|2005| July|  7|     Norte|     3|              3|\n",
            "|         200507|   AirTran Airways|                         FL|   AirTran Airways|                         FL|     Domestic|        US|          Deplaned|           Low Fare|International|            A|              8055|                   Deplaned|                    8055|2005| July|  7|     Norte|     1|              2|\n",
            "|         200507|   AirTran Airways|                         FL|   AirTran Airways|                         FL|     Domestic|        US|          Enplaned|           Low Fare|International|            A|              7984|                   Enplaned|                    7984|2005| July|  7|     Norte|     1|              2|\n",
            "|         200507|   Alaska Airlines|                         AS|   Alaska Airlines|                         AS|     Domestic|        US|          Deplaned|              Other|International|            A|             36641|                   Deplaned|                   36641|2005| July|  7|     Norte|     1|              4|\n",
            "|         200507|   Alaska Airlines|                         AS|   Alaska Airlines|                         AS|     Domestic|        US|          Enplaned|              Other|International|            A|             39379|                   Enplaned|                   39379|2005| July|  7|     Norte|     1|              4|\n",
            "|         200507|   Alaska Airlines|                         AS|   Alaska Airlines|                         AS|     Domestic|        US|    Thru / Transit|              Other|International|            A|              3678|         Thru / Transit * 2|                    7356|2005| July|  7|     Norte|     1|              1|\n",
            "|         200507|   Alaska Airlines|                         AS|   Alaska Airlines|                         AS|International|    Canada|          Deplaned|              Other|International|            A|              7977|                   Deplaned|                    7977|2005| July|  7|     Norte|     2|              2|\n",
            "|         200507|   Alaska Airlines|                         AS|   Alaska Airlines|                         AS|International|    Canada|          Enplaned|              Other|International|            A|              8837|                   Enplaned|                    8837|2005| July|  7|     Norte|     2|              2|\n",
            "|         200507|All Nippon Airways|                         NH|All Nippon Airways|                         NH|International|      Asia|          Deplaned|              Other|International|            G|              6545|                   Deplaned|                    6545|2005| July|  7|     Norte|     7|              2|\n",
            "|         200507|All Nippon Airways|                         NH|All Nippon Airways|                         NH|International|      Asia|          Enplaned|              Other|International|            G|              6094|                   Enplaned|                    6094|2005| July|  7|     Norte|     7|              2|\n",
            "|         200507| American Airlines|                         AA| American Airlines|                         AA|     Domestic|        US|          Deplaned|              Other|   Terminal 3|            E|            166577|                   Deplaned|                  166577|2005| July|  7|     Norte|     1|              4|\n",
            "|         200507| American Airlines|                         AA| American Airlines|                         AA|     Domestic|        US|          Enplaned|              Other|   Terminal 3|            E|            160890|                   Enplaned|                  160890|2005| July|  7|     Norte|     1|              4|\n",
            "+---------------+------------------+---------------------------+------------------+---------------------------+-------------+----------+------------------+-------------------+-------------+-------------+------------------+---------------------------+------------------------+----+-----+---+----------+------+---------------+\n",
            "only showing top 20 rows\n",
            "\n"
          ]
        }
      ]
    },
    {
      "cell_type": "code",
      "source": [
        "\n",
        "indexer = StringIndexer(inputCol=\"Operating_Airline\", outputCol=\"Operating_Airline_indexed\")\n",
        "\n",
        "\n",
        "assembler = VectorAssembler(inputCols=[\"Region\", \"Year\", \"mes\", \"Operating_Airline_indexed\"], outputCol=\"features\")\n",
        "\n",
        "\n",
        "dt = DecisionTreeClassifier(labelCol=\"label_pasajeros\", featuresCol=\"features\", maxBins=80,\n",
        "    maxDepth=30,\n",
        "    minInstancesPerNode=15)\n",
        "\n",
        "\n",
        "pipeline = Pipeline(stages=[indexer, assembler, dt])\n",
        "\n",
        "\n",
        "train, test = df_norte_arbol.randomSplit([0.8, 0.2], seed=1234)\n",
        "\n",
        "\n",
        "model = pipeline.fit(train)\n",
        "\n",
        "\n",
        "predictions = model.transform(test)\n",
        "\n",
        "\n",
        "predictions.select(\"Operating_Airline\", \"prediction\", \"label_pasajeros\", \"hemisferio\").show()\n",
        "\n",
        "evaluator = MulticlassClassificationEvaluator(\n",
        "    labelCol=\"label_pasajeros\",\n",
        "    predictionCol=\"prediction\",\n",
        "    metricName=\"accuracy\"\n",
        ")\n",
        "\n",
        "accuracy = evaluator.evaluate(predictions)\n",
        "accuracy_percentage = accuracy * 100\n",
        "\n",
        "print(f\"Accuracy: {accuracy_percentage:.2f}%\")"
      ],
      "metadata": {
        "colab": {
          "base_uri": "https://localhost:8080/"
        },
        "id": "uf9yoByCYR6Z",
        "outputId": "9008cf74-4d49-4d04-fd87-24798980b3b6"
      },
      "execution_count": 157,
      "outputs": [
        {
          "output_type": "stream",
          "name": "stdout",
          "text": [
            "+--------------------+----------+---------------+----------+\n",
            "|   Operating_Airline|prediction|label_pasajeros|hemisferio|\n",
            "+--------------------+----------+---------------+----------+\n",
            "|        ATA Airlines|       4.0|              4|     Norte|\n",
            "|          Air Canada|       4.0|              4|     Norte|\n",
            "|American Eagle Ai...|       2.0|              2|     Norte|\n",
            "|Atlantic Southeas...|       1.0|              1|     Norte|\n",
            "|Atlantic Southeas...|       1.0|              1|     Norte|\n",
            "|     BelAir Airlines|       0.0|              0|     Norte|\n",
            "|     BelAir Airlines|       0.0|              0|     Norte|\n",
            "|         EVA Airways|       3.0|              3|     Norte|\n",
            "|          Icelandair|       1.0|              1|     Norte|\n",
            "|    Independence Air|       1.0|              3|     Norte|\n",
            "|    Korean Air Lines|       2.0|              2|     Norte|\n",
            "|       Mesa Airlines|       1.0|              1|     Norte|\n",
            "|       Mesa Airlines|       1.0|              1|     Norte|\n",
            "|    Midwest Airlines|       2.0|              1|     Norte|\n",
            "|  Northwest Airlines|       2.0|              2|     Norte|\n",
            "|  Singapore Airlines|       4.0|              4|     Norte|\n",
            "|    SkyWest Airlines|       2.0|              4|     Norte|\n",
            "|    SkyWest Airlines|       2.0|              1|     Norte|\n",
            "|          US Airways|       4.0|              4|     Norte|\n",
            "|United Airlines -...|       4.0|              4|     Norte|\n",
            "+--------------------+----------+---------------+----------+\n",
            "only showing top 20 rows\n",
            "\n",
            "Accuracy: 75.59%\n"
          ]
        }
      ]
    },
    {
      "cell_type": "code",
      "source": [
        "df = spark.read.csv('/content/datos_limpios', header=True, inferSchema=True)\n",
        "df_sur_arbol = df.filter(df.hemisferio == 'Sur')\n",
        "df_sur_arbol.show()"
      ],
      "metadata": {
        "colab": {
          "base_uri": "https://localhost:8080/"
        },
        "id": "__HD-Sx2YR_H",
        "outputId": "f50278b2-6cfd-4e10-8c27-104101521fbf"
      },
      "execution_count": 158,
      "outputs": [
        {
          "output_type": "stream",
          "name": "stdout",
          "text": [
            "+---------------+--------------------+---------------------------+--------------------+---------------------------+-------------+-------------------+------------------+-------------------+-------------+-------------+------------------+---------------------------+------------------------+----+---------+---+----------+------+---------------+\n",
            "|Activity Period|   Operating_Airline|Operating Airline IATA Code|   Published Airline|Published Airline IATA Code|  GEO_Summary|         GEO_Region|Activity Type Code|Price Category Code|     Terminal|Boarding Area|Cantidad_pasajeros|Adjusted Activity Type Code|Adjusted Passenger Count|Year|    Month|mes|hemisferio|Region|label_pasajeros|\n",
            "+---------------+--------------------+---------------------------+--------------------+---------------------------+-------------+-------------------+------------------+-------------------+-------------+-------------+------------------+---------------------------+------------------------+----+---------+---+----------+------+---------------+\n",
            "|         200507|     Air New Zealand|                         NZ|     Air New Zealand|                         NZ|International|Australia / Oceania|          Deplaned|              Other|International|            G|              4998|                   Deplaned|                    4998|2005|     July|  7|       Sur|     4|              1|\n",
            "|         200507|     Air New Zealand|                         NZ|     Air New Zealand|                         NZ|International|Australia / Oceania|          Enplaned|              Other|International|            G|              4962|                   Enplaned|                    4962|2005|     July|  7|       Sur|     4|              1|\n",
            "|         200507|United Airlines -...|                         UA|United Airlines -...|                         UA|International|Australia / Oceania|          Deplaned|              Other|International|            G|              8603|                   Deplaned|                    8603|2005|     July|  7|       Sur|     4|              2|\n",
            "|         200507|United Airlines -...|                         UA|United Airlines -...|                         UA|International|Australia / Oceania|          Enplaned|              Other|International|            G|              8234|                   Enplaned|                    8234|2005|     July|  7|       Sur|     4|              2|\n",
            "|         200507|United Airlines -...|                         UA|United Airlines -...|                         UA|International|Australia / Oceania|    Thru / Transit|              Other|International|            G|              1385|         Thru / Transit * 2|                    2770|2005|     July|  7|       Sur|     4|              1|\n",
            "|         200508|     Air New Zealand|                         NZ|     Air New Zealand|                         NZ|International|Australia / Oceania|          Deplaned|              Other|International|            G|              4672|                   Deplaned|                    4672|2005|   August|  8|       Sur|     4|              1|\n",
            "|         200508|     Air New Zealand|                         NZ|     Air New Zealand|                         NZ|International|Australia / Oceania|          Enplaned|              Other|International|            G|              4006|                   Enplaned|                    4006|2005|   August|  8|       Sur|     4|              1|\n",
            "|         200508|United Airlines -...|                         UA|United Airlines -...|                         UA|International|Australia / Oceania|          Deplaned|              Other|International|            G|              8903|                   Deplaned|                    8903|2005|   August|  8|       Sur|     4|              2|\n",
            "|         200508|United Airlines -...|                         UA|United Airlines -...|                         UA|International|Australia / Oceania|          Enplaned|              Other|International|            G|              7874|                   Enplaned|                    7874|2005|   August|  8|       Sur|     4|              2|\n",
            "|         200508|United Airlines -...|                         UA|United Airlines -...|                         UA|International|Australia / Oceania|    Thru / Transit|              Other|International|            G|              1475|         Thru / Transit * 2|                    2950|2005|   August|  8|       Sur|     4|              1|\n",
            "|         200509|     Air New Zealand|                         NZ|     Air New Zealand|                         NZ|International|Australia / Oceania|          Deplaned|              Other|International|            G|              4565|                   Deplaned|                    4565|2005|September|  9|       Sur|     4|              1|\n",
            "|         200509|     Air New Zealand|                         NZ|     Air New Zealand|                         NZ|International|Australia / Oceania|          Enplaned|              Other|International|            G|              4295|                   Enplaned|                    4295|2005|September|  9|       Sur|     4|              1|\n",
            "|         200509|United Airlines -...|                         UA|United Airlines -...|                         UA|International|Australia / Oceania|          Deplaned|              Other|International|            G|              8048|                   Deplaned|                    8048|2005|September|  9|       Sur|     4|              2|\n",
            "|         200509|United Airlines -...|                         UA|United Airlines -...|                         UA|International|Australia / Oceania|          Enplaned|              Other|International|            G|              7750|                   Enplaned|                    7750|2005|September|  9|       Sur|     4|              2|\n",
            "|         200509|United Airlines -...|                         UA|United Airlines -...|                         UA|International|Australia / Oceania|    Thru / Transit|              Other|International|            G|              1264|         Thru / Transit * 2|                    2528|2005|September|  9|       Sur|     4|              1|\n",
            "|         200510|     Air New Zealand|                         NZ|     Air New Zealand|                         NZ|International|Australia / Oceania|          Deplaned|              Other|International|            G|              3178|                   Deplaned|                    3178|2005|  October| 10|       Sur|     4|              1|\n",
            "|         200510|     Air New Zealand|                         NZ|     Air New Zealand|                         NZ|International|Australia / Oceania|          Enplaned|              Other|International|            G|              4766|                   Enplaned|                    4766|2005|  October| 10|       Sur|     4|              1|\n",
            "|         200510|United Airlines -...|                         UA|United Airlines -...|                         UA|International|Australia / Oceania|          Deplaned|              Other|International|            G|              6280|                   Deplaned|                    6280|2005|  October| 10|       Sur|     4|              2|\n",
            "|         200510|United Airlines -...|                         UA|United Airlines -...|                         UA|International|Australia / Oceania|          Enplaned|              Other|International|            G|              9056|                   Enplaned|                    9056|2005|  October| 10|       Sur|     4|              2|\n",
            "|         200510|United Airlines -...|                         UA|United Airlines -...|                         UA|International|Australia / Oceania|    Thru / Transit|              Other|International|            G|              1046|         Thru / Transit * 2|                    2092|2005|  October| 10|       Sur|     4|              1|\n",
            "+---------------+--------------------+---------------------------+--------------------+---------------------------+-------------+-------------------+------------------+-------------------+-------------+-------------+------------------+---------------------------+------------------------+----+---------+---+----------+------+---------------+\n",
            "only showing top 20 rows\n",
            "\n"
          ]
        }
      ]
    },
    {
      "cell_type": "code",
      "source": [
        "indexer = StringIndexer(inputCol=\"Operating_Airline\", outputCol=\"Operating_Airline_indexer\")\n",
        "\n",
        "\n",
        "assembler = VectorAssembler(inputCols=[\"Region\", \"Year\", \"mes\", \"Operating_Airline_indexer\"], outputCol=\"features\")\n",
        "\n",
        "\n",
        "dt = DecisionTreeClassifier(labelCol=\"label_pasajeros\", featuresCol=\"features\", maxBins=80,\n",
        "    maxDepth=30,\n",
        "    minInstancesPerNode=15)\n",
        "\n",
        "\n",
        "pipeline = Pipeline(stages=[indexer, assembler, dt])\n",
        "\n",
        "\n",
        "train, test = df_sur_arbol.randomSplit([0.8, 0.2], seed=1234)\n",
        "\n",
        "\n",
        "model = pipeline.fit(train)\n",
        "\n",
        "\n",
        "predictions = model.transform(test)\n",
        "\n",
        "\n",
        "predictions.select(\"Operating_Airline\", \"prediction\", \"label_pasajeros\", \"hemisferio\").show()\n",
        "\n",
        "evaluator = MulticlassClassificationEvaluator(\n",
        "    labelCol=\"label_pasajeros\",\n",
        "    predictionCol=\"prediction\",\n",
        "    metricName=\"accuracy\"\n",
        ")\n",
        "\n",
        "accuracy = evaluator.evaluate(predictions)\n",
        "accuracy_percentage = accuracy * 100\n",
        "\n",
        "print(f\"Accuracy: {accuracy_percentage:.2f}%\")"
      ],
      "metadata": {
        "colab": {
          "base_uri": "https://localhost:8080/"
        },
        "id": "cZgPVcuKgwsS",
        "outputId": "7cf25a2d-c0af-42c5-dcbb-d4008a6afe42"
      },
      "execution_count": 162,
      "outputs": [
        {
          "output_type": "stream",
          "name": "stdout",
          "text": [
            "+--------------------+----------+---------------+----------+\n",
            "|   Operating_Airline|prediction|label_pasajeros|hemisferio|\n",
            "+--------------------+----------+---------------+----------+\n",
            "|     Air New Zealand|       2.0|              1|       Sur|\n",
            "|United Airlines -...|       2.0|              1|       Sur|\n",
            "|     Air New Zealand|       2.0|              1|       Sur|\n",
            "|United Airlines -...|       2.0|              1|       Sur|\n",
            "|     Air New Zealand|       2.0|              2|       Sur|\n",
            "|     Air New Zealand|       2.0|              2|       Sur|\n",
            "|United Airlines -...|       2.0|              2|       Sur|\n",
            "|     Air New Zealand|       2.0|              2|       Sur|\n",
            "|United Airlines -...|       2.0|              2|       Sur|\n",
            "|     Air New Zealand|       2.0|              2|       Sur|\n",
            "|United Airlines -...|       2.0|              2|       Sur|\n",
            "|      Qantas Airways|       2.0|              1|       Sur|\n",
            "|      Qantas Airways|       2.0|              1|       Sur|\n",
            "|United Airlines -...|       2.0|              2|       Sur|\n",
            "|      Qantas Airways|       2.0|              2|       Sur|\n",
            "|United Airlines -...|       2.0|              2|       Sur|\n",
            "|      Qantas Airways|       2.0|              2|       Sur|\n",
            "|United Airlines -...|       2.0|              2|       Sur|\n",
            "|     Air New Zealand|       2.0|              2|       Sur|\n",
            "|      Qantas Airways|       1.0|              1|       Sur|\n",
            "+--------------------+----------+---------------+----------+\n",
            "only showing top 20 rows\n",
            "\n",
            "Accuracy: 75.44%\n"
          ]
        }
      ]
    },
    {
      "cell_type": "code",
      "source": [
        "df = spark.read.csv('/content/datos_limpios', header=True, inferSchema=True)\n",
        "df_centro_arbol = df.filter(df.hemisferio == 'Centro')\n",
        "df_sur_arbol.show()"
      ],
      "metadata": {
        "colab": {
          "base_uri": "https://localhost:8080/"
        },
        "id": "Cvgrtpg-i0JT",
        "outputId": "45ad319a-f07c-405f-a509-abf1ede3e2a7"
      },
      "execution_count": 164,
      "outputs": [
        {
          "output_type": "stream",
          "name": "stdout",
          "text": [
            "+---------------+--------------------+---------------------------+--------------------+---------------------------+-------------+-------------------+------------------+-------------------+-------------+-------------+------------------+---------------------------+------------------------+----+---------+---+----------+------+---------------+\n",
            "|Activity Period|   Operating_Airline|Operating Airline IATA Code|   Published Airline|Published Airline IATA Code|  GEO_Summary|         GEO_Region|Activity Type Code|Price Category Code|     Terminal|Boarding Area|Cantidad_pasajeros|Adjusted Activity Type Code|Adjusted Passenger Count|Year|    Month|mes|hemisferio|Region|label_pasajeros|\n",
            "+---------------+--------------------+---------------------------+--------------------+---------------------------+-------------+-------------------+------------------+-------------------+-------------+-------------+------------------+---------------------------+------------------------+----+---------+---+----------+------+---------------+\n",
            "|         200507|     Air New Zealand|                         NZ|     Air New Zealand|                         NZ|International|Australia / Oceania|          Deplaned|              Other|International|            G|              4998|                   Deplaned|                    4998|2005|     July|  7|       Sur|     4|              1|\n",
            "|         200507|     Air New Zealand|                         NZ|     Air New Zealand|                         NZ|International|Australia / Oceania|          Enplaned|              Other|International|            G|              4962|                   Enplaned|                    4962|2005|     July|  7|       Sur|     4|              1|\n",
            "|         200507|United Airlines -...|                         UA|United Airlines -...|                         UA|International|Australia / Oceania|          Deplaned|              Other|International|            G|              8603|                   Deplaned|                    8603|2005|     July|  7|       Sur|     4|              2|\n",
            "|         200507|United Airlines -...|                         UA|United Airlines -...|                         UA|International|Australia / Oceania|          Enplaned|              Other|International|            G|              8234|                   Enplaned|                    8234|2005|     July|  7|       Sur|     4|              2|\n",
            "|         200507|United Airlines -...|                         UA|United Airlines -...|                         UA|International|Australia / Oceania|    Thru / Transit|              Other|International|            G|              1385|         Thru / Transit * 2|                    2770|2005|     July|  7|       Sur|     4|              1|\n",
            "|         200508|     Air New Zealand|                         NZ|     Air New Zealand|                         NZ|International|Australia / Oceania|          Deplaned|              Other|International|            G|              4672|                   Deplaned|                    4672|2005|   August|  8|       Sur|     4|              1|\n",
            "|         200508|     Air New Zealand|                         NZ|     Air New Zealand|                         NZ|International|Australia / Oceania|          Enplaned|              Other|International|            G|              4006|                   Enplaned|                    4006|2005|   August|  8|       Sur|     4|              1|\n",
            "|         200508|United Airlines -...|                         UA|United Airlines -...|                         UA|International|Australia / Oceania|          Deplaned|              Other|International|            G|              8903|                   Deplaned|                    8903|2005|   August|  8|       Sur|     4|              2|\n",
            "|         200508|United Airlines -...|                         UA|United Airlines -...|                         UA|International|Australia / Oceania|          Enplaned|              Other|International|            G|              7874|                   Enplaned|                    7874|2005|   August|  8|       Sur|     4|              2|\n",
            "|         200508|United Airlines -...|                         UA|United Airlines -...|                         UA|International|Australia / Oceania|    Thru / Transit|              Other|International|            G|              1475|         Thru / Transit * 2|                    2950|2005|   August|  8|       Sur|     4|              1|\n",
            "|         200509|     Air New Zealand|                         NZ|     Air New Zealand|                         NZ|International|Australia / Oceania|          Deplaned|              Other|International|            G|              4565|                   Deplaned|                    4565|2005|September|  9|       Sur|     4|              1|\n",
            "|         200509|     Air New Zealand|                         NZ|     Air New Zealand|                         NZ|International|Australia / Oceania|          Enplaned|              Other|International|            G|              4295|                   Enplaned|                    4295|2005|September|  9|       Sur|     4|              1|\n",
            "|         200509|United Airlines -...|                         UA|United Airlines -...|                         UA|International|Australia / Oceania|          Deplaned|              Other|International|            G|              8048|                   Deplaned|                    8048|2005|September|  9|       Sur|     4|              2|\n",
            "|         200509|United Airlines -...|                         UA|United Airlines -...|                         UA|International|Australia / Oceania|          Enplaned|              Other|International|            G|              7750|                   Enplaned|                    7750|2005|September|  9|       Sur|     4|              2|\n",
            "|         200509|United Airlines -...|                         UA|United Airlines -...|                         UA|International|Australia / Oceania|    Thru / Transit|              Other|International|            G|              1264|         Thru / Transit * 2|                    2528|2005|September|  9|       Sur|     4|              1|\n",
            "|         200510|     Air New Zealand|                         NZ|     Air New Zealand|                         NZ|International|Australia / Oceania|          Deplaned|              Other|International|            G|              3178|                   Deplaned|                    3178|2005|  October| 10|       Sur|     4|              1|\n",
            "|         200510|     Air New Zealand|                         NZ|     Air New Zealand|                         NZ|International|Australia / Oceania|          Enplaned|              Other|International|            G|              4766|                   Enplaned|                    4766|2005|  October| 10|       Sur|     4|              1|\n",
            "|         200510|United Airlines -...|                         UA|United Airlines -...|                         UA|International|Australia / Oceania|          Deplaned|              Other|International|            G|              6280|                   Deplaned|                    6280|2005|  October| 10|       Sur|     4|              2|\n",
            "|         200510|United Airlines -...|                         UA|United Airlines -...|                         UA|International|Australia / Oceania|          Enplaned|              Other|International|            G|              9056|                   Enplaned|                    9056|2005|  October| 10|       Sur|     4|              2|\n",
            "|         200510|United Airlines -...|                         UA|United Airlines -...|                         UA|International|Australia / Oceania|    Thru / Transit|              Other|International|            G|              1046|         Thru / Transit * 2|                    2092|2005|  October| 10|       Sur|     4|              1|\n",
            "+---------------+--------------------+---------------------------+--------------------+---------------------------+-------------+-------------------+------------------+-------------------+-------------+-------------+------------------+---------------------------+------------------------+----+---------+---+----------+------+---------------+\n",
            "only showing top 20 rows\n",
            "\n"
          ]
        }
      ]
    },
    {
      "cell_type": "code",
      "source": [
        "indexer = StringIndexer(inputCol=\"Operating_Airline\", outputCol=\"Operating_Airline_indexer\")\n",
        "\n",
        "\n",
        "assembler = VectorAssembler(inputCols=[\"Region\", \"Year\", \"mes\", \"Operating_Airline_indexer\"], outputCol=\"features\")\n",
        "\n",
        "\n",
        "dt = DecisionTreeClassifier(labelCol=\"label_pasajeros\", featuresCol=\"features\", maxBins=80,\n",
        "    maxDepth=30,\n",
        "    minInstancesPerNode=10)\n",
        "\n",
        "\n",
        "pipeline = Pipeline(stages=[indexer, assembler, dt])\n",
        "\n",
        "\n",
        "train, test = df_centro_arbol.randomSplit([0.7, 0.3], seed=1234)\n",
        "\n",
        "model = pipeline.fit(train)\n",
        "\n",
        "\n",
        "predictions = model.transform(test)\n",
        "\n",
        "\n",
        "predictions.select(\"Operating_Airline\", \"prediction\", \"label_pasajeros\", \"hemisferio\").show()\n",
        "\n",
        "evaluator = MulticlassClassificationEvaluator(\n",
        "    labelCol=\"label_pasajeros\",\n",
        "    predictionCol=\"prediction\",\n",
        "    metricName=\"accuracy\"\n",
        ")\n",
        "\n",
        "accuracy = evaluator.evaluate(predictions)\n",
        "accuracy_percentage = accuracy * 100\n",
        "\n",
        "print(f\"Accuracy: {accuracy_percentage:.2f}%\")"
      ],
      "metadata": {
        "colab": {
          "base_uri": "https://localhost:8080/"
        },
        "id": "6dXREa_9i0jQ",
        "outputId": "0460bbe1-a95f-46b3-af0b-89c1d1a347b0"
      },
      "execution_count": 171,
      "outputs": [
        {
          "output_type": "stream",
          "name": "stdout",
          "text": [
            "+--------------------+----------+---------------+----------+\n",
            "|   Operating_Airline|prediction|label_pasajeros|hemisferio|\n",
            "+--------------------+----------+---------------+----------+\n",
            "|     Alaska Airlines|       2.0|              2|    Centro|\n",
            "|     Alaska Airlines|       2.0|              3|    Centro|\n",
            "|   Mexicana Airlines|       2.0|              2|    Centro|\n",
            "|     Alaska Airlines|       1.0|              2|    Centro|\n",
            "|   Mexicana Airlines|       2.0|              1|    Centro|\n",
            "|                TACA|       1.0|              1|    Centro|\n",
            "|                TACA|       1.0|              1|    Centro|\n",
            "|United Airlines -...|       0.0|              2|    Centro|\n",
            "|United Airlines -...|       0.0|              0|    Centro|\n",
            "|     Alaska Airlines|       1.0|              2|    Centro|\n",
            "|     Alaska Airlines|       1.0|              1|    Centro|\n",
            "|                TACA|       1.0|              1|    Centro|\n",
            "|                TACA|       1.0|              1|    Centro|\n",
            "|United Airlines -...|       2.0|              2|    Centro|\n",
            "|     Alaska Airlines|       3.0|              1|    Centro|\n",
            "|                TACA|       2.0|              2|    Centro|\n",
            "|United Airlines -...|       0.0|              3|    Centro|\n",
            "|United Airlines -...|       0.0|              3|    Centro|\n",
            "|   Mexicana Airlines|       2.0|              2|    Centro|\n",
            "|   Mexicana Airlines|       2.0|              2|    Centro|\n",
            "+--------------------+----------+---------------+----------+\n",
            "only showing top 20 rows\n",
            "\n",
            "Accuracy: 70.19%\n"
          ]
        }
      ]
    },
    {
      "cell_type": "code",
      "source": [
        "datos_limpios.printSchema()"
      ],
      "metadata": {
        "colab": {
          "base_uri": "https://localhost:8080/"
        },
        "id": "S21wgq6QF7IA",
        "outputId": "dd1f628a-3536-47b9-a190-24eb9beab016"
      },
      "execution_count": 185,
      "outputs": [
        {
          "output_type": "stream",
          "name": "stdout",
          "text": [
            "root\n",
            " |-- Activity Period: string (nullable = true)\n",
            " |-- Operating_Airline: string (nullable = true)\n",
            " |-- Operating Airline IATA Code: string (nullable = true)\n",
            " |-- Published Airline: string (nullable = true)\n",
            " |-- Published Airline IATA Code: string (nullable = true)\n",
            " |-- GEO_Summary: string (nullable = true)\n",
            " |-- GEO_Region: string (nullable = true)\n",
            " |-- Activity Type Code: string (nullable = true)\n",
            " |-- Price Category Code: string (nullable = true)\n",
            " |-- Terminal: string (nullable = true)\n",
            " |-- Boarding Area: string (nullable = true)\n",
            " |-- Cantidad_pasajeros: integer (nullable = true)\n",
            " |-- Adjusted Activity Type Code: string (nullable = true)\n",
            " |-- Adjusted Passenger Count: string (nullable = true)\n",
            " |-- Year: string (nullable = true)\n",
            " |-- Month: string (nullable = true)\n",
            " |-- mes: integer (nullable = true)\n",
            " |-- hemisferio: string (nullable = true)\n",
            " |-- Region: integer (nullable = true)\n",
            " |-- label_pasajeros: integer (nullable = false)\n",
            "\n"
          ]
        }
      ]
    }
  ]
}